{
  "nbformat": 4,
  "nbformat_minor": 0,
  "metadata": {
    "colab": {
      "name": "NHNES_Build",
      "provenance": [],
      "collapsed_sections": [],
      "include_colab_link": true
    },
    "kernelspec": {
      "name": "python3",
      "display_name": "Python 3"
    }
  },
  "cells": [
    {
      "cell_type": "markdown",
      "metadata": {
        "id": "view-in-github",
        "colab_type": "text"
      },
      "source": [
        "<a href=\"https://colab.research.google.com/github/andrewhslr419/DS-Unit-1-Sprint-1-Data-Wrangling-and-Storytelling/blob/master/NHNES_Build.ipynb\" target=\"_parent\"><img src=\"https://colab.research.google.com/assets/colab-badge.svg\" alt=\"Open In Colab\"/></a>"
      ]
    },
    {
      "cell_type": "markdown",
      "metadata": {
        "id": "z83Uny22s4wT",
        "colab_type": "text"
      },
      "source": [
        "The following data represents the National Health and Nutrition Examination Survey. The survey measures health and nutrition in adults and children in America. This survey shows that in fact your health as a child has a major impact on your health as an adult. "
      ]
    },
    {
      "cell_type": "code",
      "metadata": {
        "id": "KLciXfLoGLdf",
        "colab_type": "code",
        "colab": {}
      },
      "source": [
        "import pandas as pd\n",
        "import numpy as np \n",
        "import matplotlib.pyplot as plt\n",
        "from mpl_toolkits import mplot3d\n",
        "from google.colab import files\n",
        "import seaborn as sns\n",
        "# files.upload()"
      ],
      "execution_count": 0,
      "outputs": []
    },
    {
      "cell_type": "code",
      "metadata": {
        "id": "T5z7iwnWVlBD",
        "colab_type": "code",
        "outputId": "be592551-59bb-49b5-faec-6986f0423b15",
        "colab": {
          "base_uri": "https://localhost:8080/",
          "height": 564
        }
      },
      "source": [
        "survey = pd.read_csv('NHNES.csv')\n",
        "survey.head()\n",
        "\n"
      ],
      "execution_count": 90,
      "outputs": [
        {
          "output_type": "execute_result",
          "data": {
            "text/html": [
              "<div>\n",
              "<style scoped>\n",
              "    .dataframe tbody tr th:only-of-type {\n",
              "        vertical-align: middle;\n",
              "    }\n",
              "\n",
              "    .dataframe tbody tr th {\n",
              "        vertical-align: top;\n",
              "    }\n",
              "\n",
              "    .dataframe thead th {\n",
              "        text-align: right;\n",
              "    }\n",
              "</style>\n",
              "<table border=\"1\" class=\"dataframe\">\n",
              "  <thead>\n",
              "    <tr style=\"text-align: right;\">\n",
              "      <th></th>\n",
              "      <th>Year</th>\n",
              "      <th>LocationAbbr</th>\n",
              "      <th>LocationDesc</th>\n",
              "      <th>DataSource</th>\n",
              "      <th>PriorityArea1</th>\n",
              "      <th>PriorityArea2</th>\n",
              "      <th>PriorityArea3</th>\n",
              "      <th>PriorityArea4</th>\n",
              "      <th>Category</th>\n",
              "      <th>Topic</th>\n",
              "      <th>Indicator</th>\n",
              "      <th>Break_Out_Category</th>\n",
              "      <th>Break_Out</th>\n",
              "      <th>Data_Value_Type</th>\n",
              "      <th>Data_Value_Unit</th>\n",
              "      <th>Data_Value</th>\n",
              "      <th>Data_Value_Footnote_Symbol</th>\n",
              "      <th>Data_Value_Footnote</th>\n",
              "      <th>Confidence_limit_Low</th>\n",
              "      <th>Confidence_limit_High</th>\n",
              "      <th>CategoryId</th>\n",
              "      <th>TopicId</th>\n",
              "      <th>IndicatorID</th>\n",
              "      <th>BreakOutCategoryId</th>\n",
              "      <th>BreakOutId</th>\n",
              "      <th>LocationID</th>\n",
              "      <th>GeoLocation</th>\n",
              "    </tr>\n",
              "  </thead>\n",
              "  <tbody>\n",
              "    <tr>\n",
              "      <th>0</th>\n",
              "      <td>2011-2012</td>\n",
              "      <td>US</td>\n",
              "      <td>United States</td>\n",
              "      <td>NHANES</td>\n",
              "      <td>Million Hearts®</td>\n",
              "      <td>ABCS</td>\n",
              "      <td>None</td>\n",
              "      <td>None</td>\n",
              "      <td>Risk Factors</td>\n",
              "      <td>Aspirin use</td>\n",
              "      <td>Prevalence of aspirin use for secondary preven...</td>\n",
              "      <td>Race</td>\n",
              "      <td>Non-Hispanic Black</td>\n",
              "      <td>Percentage</td>\n",
              "      <td>%</td>\n",
              "      <td>67.9</td>\n",
              "      <td>NaN</td>\n",
              "      <td>NaN</td>\n",
              "      <td>56.1</td>\n",
              "      <td>77.8</td>\n",
              "      <td>C2</td>\n",
              "      <td>T8</td>\n",
              "      <td>NH010</td>\n",
              "      <td>BOC04</td>\n",
              "      <td>RAC02</td>\n",
              "      <td>NaN</td>\n",
              "      <td>NaN</td>\n",
              "    </tr>\n",
              "    <tr>\n",
              "      <th>1</th>\n",
              "      <td>2011-2012</td>\n",
              "      <td>US</td>\n",
              "      <td>United States</td>\n",
              "      <td>NHANES</td>\n",
              "      <td>Million Hearts®</td>\n",
              "      <td>ABCS</td>\n",
              "      <td>None</td>\n",
              "      <td>None</td>\n",
              "      <td>Risk Factors</td>\n",
              "      <td>Aspirin use</td>\n",
              "      <td>Prevalence of aspirin use for secondary preven...</td>\n",
              "      <td>Overall</td>\n",
              "      <td>Overall</td>\n",
              "      <td>Percentage</td>\n",
              "      <td>%</td>\n",
              "      <td>75.7</td>\n",
              "      <td>NaN</td>\n",
              "      <td>NaN</td>\n",
              "      <td>62.5</td>\n",
              "      <td>85.3</td>\n",
              "      <td>C2</td>\n",
              "      <td>T8</td>\n",
              "      <td>NH010</td>\n",
              "      <td>BOC01</td>\n",
              "      <td>OVR01</td>\n",
              "      <td>NaN</td>\n",
              "      <td>NaN</td>\n",
              "    </tr>\n",
              "    <tr>\n",
              "      <th>2</th>\n",
              "      <td>2011-2012</td>\n",
              "      <td>US</td>\n",
              "      <td>United States</td>\n",
              "      <td>NHANES</td>\n",
              "      <td>Million Hearts®</td>\n",
              "      <td>ABCS</td>\n",
              "      <td>None</td>\n",
              "      <td>None</td>\n",
              "      <td>Risk Factors</td>\n",
              "      <td>Aspirin use</td>\n",
              "      <td>Prevalence of aspirin use for secondary preven...</td>\n",
              "      <td>Race</td>\n",
              "      <td>Non-Hispanic White</td>\n",
              "      <td>Percentage</td>\n",
              "      <td>%</td>\n",
              "      <td>78.3</td>\n",
              "      <td>NaN</td>\n",
              "      <td>NaN</td>\n",
              "      <td>56.9</td>\n",
              "      <td>90.8</td>\n",
              "      <td>C2</td>\n",
              "      <td>T8</td>\n",
              "      <td>NH010</td>\n",
              "      <td>BOC04</td>\n",
              "      <td>RAC01</td>\n",
              "      <td>NaN</td>\n",
              "      <td>NaN</td>\n",
              "    </tr>\n",
              "    <tr>\n",
              "      <th>3</th>\n",
              "      <td>2011-2012</td>\n",
              "      <td>US</td>\n",
              "      <td>United States</td>\n",
              "      <td>NHANES</td>\n",
              "      <td>Million Hearts®</td>\n",
              "      <td>ABCS</td>\n",
              "      <td>None</td>\n",
              "      <td>None</td>\n",
              "      <td>Risk Factors</td>\n",
              "      <td>Aspirin use</td>\n",
              "      <td>Prevalence of aspirin use for secondary preven...</td>\n",
              "      <td>Race</td>\n",
              "      <td>Hispanic</td>\n",
              "      <td>Percentage</td>\n",
              "      <td>%</td>\n",
              "      <td>54.8</td>\n",
              "      <td>NaN</td>\n",
              "      <td>NaN</td>\n",
              "      <td>38.6</td>\n",
              "      <td>70.1</td>\n",
              "      <td>C2</td>\n",
              "      <td>T8</td>\n",
              "      <td>NH010</td>\n",
              "      <td>BOC04</td>\n",
              "      <td>RAC04</td>\n",
              "      <td>NaN</td>\n",
              "      <td>NaN</td>\n",
              "    </tr>\n",
              "    <tr>\n",
              "      <th>4</th>\n",
              "      <td>2011-2012</td>\n",
              "      <td>US</td>\n",
              "      <td>United States</td>\n",
              "      <td>NHANES</td>\n",
              "      <td>Million Hearts®</td>\n",
              "      <td>ABCS</td>\n",
              "      <td>None</td>\n",
              "      <td>None</td>\n",
              "      <td>Risk Factors</td>\n",
              "      <td>Aspirin use</td>\n",
              "      <td>Prevalence of aspirin use for secondary preven...</td>\n",
              "      <td>Gender</td>\n",
              "      <td>Female</td>\n",
              "      <td>Percentage</td>\n",
              "      <td>%</td>\n",
              "      <td>73.8</td>\n",
              "      <td>NaN</td>\n",
              "      <td>NaN</td>\n",
              "      <td>61.2</td>\n",
              "      <td>83.4</td>\n",
              "      <td>C2</td>\n",
              "      <td>T8</td>\n",
              "      <td>NH010</td>\n",
              "      <td>BOC02</td>\n",
              "      <td>GEN02</td>\n",
              "      <td>NaN</td>\n",
              "      <td>NaN</td>\n",
              "    </tr>\n",
              "  </tbody>\n",
              "</table>\n",
              "</div>"
            ],
            "text/plain": [
              "        Year LocationAbbr   LocationDesc  ... BreakOutId LocationID GeoLocation\n",
              "0  2011-2012           US  United States  ...      RAC02        NaN         NaN\n",
              "1  2011-2012           US  United States  ...      OVR01        NaN         NaN\n",
              "2  2011-2012           US  United States  ...      RAC01        NaN         NaN\n",
              "3  2011-2012           US  United States  ...      RAC04        NaN         NaN\n",
              "4  2011-2012           US  United States  ...      GEN02        NaN         NaN\n",
              "\n",
              "[5 rows x 27 columns]"
            ]
          },
          "metadata": {
            "tags": []
          },
          "execution_count": 90
        }
      ]
    },
    {
      "cell_type": "code",
      "metadata": {
        "id": "ZjvHUVWFoEtC",
        "colab_type": "code",
        "outputId": "3cd53a33-75a1-4f91-8512-52e6aa9b7f7a",
        "colab": {
          "base_uri": "https://localhost:8080/",
          "height": 34
        }
      },
      "source": [
        "survey.shape"
      ],
      "execution_count": 91,
      "outputs": [
        {
          "output_type": "execute_result",
          "data": {
            "text/plain": [
              "(4824, 27)"
            ]
          },
          "metadata": {
            "tags": []
          },
          "execution_count": 91
        }
      ]
    },
    {
      "cell_type": "markdown",
      "metadata": {
        "id": "Gxzea1aaNnnD",
        "colab_type": "text"
      },
      "source": [
        "*** After the shape we start counting values***"
      ]
    },
    {
      "cell_type": "code",
      "metadata": {
        "id": "IzasfcsCtz7I",
        "colab_type": "code",
        "colab": {
          "base_uri": "https://localhost:8080/",
          "height": 221
        },
        "outputId": "562ff9ca-bde4-4d27-8689-2e7afd124b8d"
      },
      "source": [
        "survey['Data_Value'].value_counts()"
      ],
      "execution_count": 92,
      "outputs": [
        {
          "output_type": "execute_result",
          "data": {
            "text/plain": [
              "30.4    23\n",
              "2.7     21\n",
              "2.8     18\n",
              "3.2     17\n",
              "18.6    17\n",
              "        ..\n",
              "90.8     1\n",
              "52.3     1\n",
              "89.9     1\n",
              "80.2     1\n",
              "78.2     1\n",
              "Name: Data_Value, Length: 975, dtype: int64"
            ]
          },
          "metadata": {
            "tags": []
          },
          "execution_count": 92
        }
      ]
    },
    {
      "cell_type": "code",
      "metadata": {
        "id": "gn2HKi3Av1C-",
        "colab_type": "code",
        "colab": {
          "base_uri": "https://localhost:8080/",
          "height": 68
        },
        "outputId": "ff017c7b-9c83-48d6-ad6e-eb964ff32415"
      },
      "source": [
        "survey['PriorityArea1'].value_counts()"
      ],
      "execution_count": 93,
      "outputs": [
        {
          "output_type": "execute_result",
          "data": {
            "text/plain": [
              "None               3766\n",
              "Million Hearts®     722\n",
              "Name: PriorityArea1, dtype: int64"
            ]
          },
          "metadata": {
            "tags": []
          },
          "execution_count": 93
        }
      ]
    },
    {
      "cell_type": "code",
      "metadata": {
        "id": "ZhkvHpQ2v92F",
        "colab_type": "code",
        "colab": {
          "base_uri": "https://localhost:8080/",
          "height": 221
        },
        "outputId": "cf8e9c3a-60b5-4526-d63f-f2e7883ffbc9"
      },
      "source": [
        "survey['Confidence_limit_High'].value_counts()"
      ],
      "execution_count": 94,
      "outputs": [
        {
          "output_type": "execute_result",
          "data": {
            "text/plain": [
              "30.3    21\n",
              "23.9    20\n",
              "3.5     19\n",
              "35.0    19\n",
              "18.2    19\n",
              "        ..\n",
              "44.6     1\n",
              "88.1     1\n",
              "92.2     1\n",
              "12.4     1\n",
              "81.8     1\n",
              "Name: Confidence_limit_High, Length: 1003, dtype: int64"
            ]
          },
          "metadata": {
            "tags": []
          },
          "execution_count": 94
        }
      ]
    },
    {
      "cell_type": "markdown",
      "metadata": {
        "id": "WXdtic8-3EcF",
        "colab_type": "text"
      },
      "source": [
        "***Calculate the mean by grouping***\n"
      ]
    },
    {
      "cell_type": "code",
      "metadata": {
        "id": "jkPJOJvKx8hP",
        "colab_type": "code",
        "colab": {
          "base_uri": "https://localhost:8080/",
          "height": 450
        },
        "outputId": "373fc70b-f9c7-4172-d99a-f87f0b356a4b"
      },
      "source": [
        "survey.groupby(['Data_Value', 'Confidence_limit_High']).mean() "
      ],
      "execution_count": 95,
      "outputs": [
        {
          "output_type": "execute_result",
          "data": {
            "text/html": [
              "<div>\n",
              "<style scoped>\n",
              "    .dataframe tbody tr th:only-of-type {\n",
              "        vertical-align: middle;\n",
              "    }\n",
              "\n",
              "    .dataframe tbody tr th {\n",
              "        vertical-align: top;\n",
              "    }\n",
              "\n",
              "    .dataframe thead th {\n",
              "        text-align: right;\n",
              "    }\n",
              "</style>\n",
              "<table border=\"1\" class=\"dataframe\">\n",
              "  <thead>\n",
              "    <tr style=\"text-align: right;\">\n",
              "      <th></th>\n",
              "      <th></th>\n",
              "      <th>Confidence_limit_Low</th>\n",
              "      <th>LocationID</th>\n",
              "      <th>GeoLocation</th>\n",
              "    </tr>\n",
              "    <tr>\n",
              "      <th>Data_Value</th>\n",
              "      <th>Confidence_limit_High</th>\n",
              "      <th></th>\n",
              "      <th></th>\n",
              "      <th></th>\n",
              "    </tr>\n",
              "  </thead>\n",
              "  <tbody>\n",
              "    <tr>\n",
              "      <th>0.0</th>\n",
              "      <th>0.2</th>\n",
              "      <td>0.0</td>\n",
              "      <td>NaN</td>\n",
              "      <td>NaN</td>\n",
              "    </tr>\n",
              "    <tr>\n",
              "      <th rowspan=\"2\" valign=\"top\">0.1</th>\n",
              "      <th>0.4</th>\n",
              "      <td>0.1</td>\n",
              "      <td>NaN</td>\n",
              "      <td>NaN</td>\n",
              "    </tr>\n",
              "    <tr>\n",
              "      <th>0.7</th>\n",
              "      <td>0.0</td>\n",
              "      <td>NaN</td>\n",
              "      <td>NaN</td>\n",
              "    </tr>\n",
              "    <tr>\n",
              "      <th rowspan=\"2\" valign=\"top\">0.2</th>\n",
              "      <th>0.5</th>\n",
              "      <td>0.1</td>\n",
              "      <td>NaN</td>\n",
              "      <td>NaN</td>\n",
              "    </tr>\n",
              "    <tr>\n",
              "      <th>0.6</th>\n",
              "      <td>0.0</td>\n",
              "      <td>NaN</td>\n",
              "      <td>NaN</td>\n",
              "    </tr>\n",
              "    <tr>\n",
              "      <th>...</th>\n",
              "      <th>...</th>\n",
              "      <td>...</td>\n",
              "      <td>...</td>\n",
              "      <td>...</td>\n",
              "    </tr>\n",
              "    <tr>\n",
              "      <th>4205.8</th>\n",
              "      <th>4385.5</th>\n",
              "      <td>4026.2</td>\n",
              "      <td>NaN</td>\n",
              "      <td>NaN</td>\n",
              "    </tr>\n",
              "    <tr>\n",
              "      <th>4234.3</th>\n",
              "      <th>4321.0</th>\n",
              "      <td>4147.7</td>\n",
              "      <td>NaN</td>\n",
              "      <td>NaN</td>\n",
              "    </tr>\n",
              "    <tr>\n",
              "      <th>4240.5</th>\n",
              "      <th>4343.0</th>\n",
              "      <td>4137.9</td>\n",
              "      <td>NaN</td>\n",
              "      <td>NaN</td>\n",
              "    </tr>\n",
              "    <tr>\n",
              "      <th>4240.8</th>\n",
              "      <th>4343.3</th>\n",
              "      <td>4138.4</td>\n",
              "      <td>NaN</td>\n",
              "      <td>NaN</td>\n",
              "    </tr>\n",
              "    <tr>\n",
              "      <th>4341.0</th>\n",
              "      <th>4464.6</th>\n",
              "      <td>4217.3</td>\n",
              "      <td>NaN</td>\n",
              "      <td>NaN</td>\n",
              "    </tr>\n",
              "  </tbody>\n",
              "</table>\n",
              "<p>2901 rows × 3 columns</p>\n",
              "</div>"
            ],
            "text/plain": [
              "                                  Confidence_limit_Low  LocationID  GeoLocation\n",
              "Data_Value Confidence_limit_High                                               \n",
              "0.0        0.2                                     0.0         NaN          NaN\n",
              "0.1        0.4                                     0.1         NaN          NaN\n",
              "           0.7                                     0.0         NaN          NaN\n",
              "0.2        0.5                                     0.1         NaN          NaN\n",
              "           0.6                                     0.0         NaN          NaN\n",
              "...                                                ...         ...          ...\n",
              "4205.8     4385.5                               4026.2         NaN          NaN\n",
              "4234.3     4321.0                               4147.7         NaN          NaN\n",
              "4240.5     4343.0                               4137.9         NaN          NaN\n",
              "4240.8     4343.3                               4138.4         NaN          NaN\n",
              "4341.0     4464.6                               4217.3         NaN          NaN\n",
              "\n",
              "[2901 rows x 3 columns]"
            ]
          },
          "metadata": {
            "tags": []
          },
          "execution_count": 95
        }
      ]
    },
    {
      "cell_type": "markdown",
      "metadata": {
        "id": "n_FrCsM836vD",
        "colab_type": "text"
      },
      "source": [
        "**Above** we see there is huge spikes in the data around 4000 this shows where the spikes happen in the graph are the columns are most closely related to the mean. "
      ]
    },
    {
      "cell_type": "markdown",
      "metadata": {
        "id": "UiIBDIwG4voT",
        "colab_type": "text"
      },
      "source": [
        "**Here** the quaries into the data show where the values are equal to eachother, the second shows there are no Data Values greater than the confidence interval and the third that all data values are less than the high confidence limit\n"
      ]
    },
    {
      "cell_type": "code",
      "metadata": {
        "id": "xz-5fQbUyUpV",
        "colab_type": "code",
        "colab": {
          "base_uri": "https://localhost:8080/",
          "height": 69
        },
        "outputId": "7cb93e01-158f-40f3-f969-b44b8f322181"
      },
      "source": [
        "survey.query('Data_Value == Confidence_limit_High')"
      ],
      "execution_count": 96,
      "outputs": [
        {
          "output_type": "execute_result",
          "data": {
            "text/html": [
              "<div>\n",
              "<style scoped>\n",
              "    .dataframe tbody tr th:only-of-type {\n",
              "        vertical-align: middle;\n",
              "    }\n",
              "\n",
              "    .dataframe tbody tr th {\n",
              "        vertical-align: top;\n",
              "    }\n",
              "\n",
              "    .dataframe thead th {\n",
              "        text-align: right;\n",
              "    }\n",
              "</style>\n",
              "<table border=\"1\" class=\"dataframe\">\n",
              "  <thead>\n",
              "    <tr style=\"text-align: right;\">\n",
              "      <th></th>\n",
              "      <th>Year</th>\n",
              "      <th>LocationAbbr</th>\n",
              "      <th>LocationDesc</th>\n",
              "      <th>DataSource</th>\n",
              "      <th>PriorityArea1</th>\n",
              "      <th>PriorityArea2</th>\n",
              "      <th>PriorityArea3</th>\n",
              "      <th>PriorityArea4</th>\n",
              "      <th>Category</th>\n",
              "      <th>Topic</th>\n",
              "      <th>Indicator</th>\n",
              "      <th>Break_Out_Category</th>\n",
              "      <th>Break_Out</th>\n",
              "      <th>Data_Value_Type</th>\n",
              "      <th>Data_Value_Unit</th>\n",
              "      <th>Data_Value</th>\n",
              "      <th>Data_Value_Footnote_Symbol</th>\n",
              "      <th>Data_Value_Footnote</th>\n",
              "      <th>Confidence_limit_Low</th>\n",
              "      <th>Confidence_limit_High</th>\n",
              "      <th>CategoryId</th>\n",
              "      <th>TopicId</th>\n",
              "      <th>IndicatorID</th>\n",
              "      <th>BreakOutCategoryId</th>\n",
              "      <th>BreakOutId</th>\n",
              "      <th>LocationID</th>\n",
              "      <th>GeoLocation</th>\n",
              "    </tr>\n",
              "  </thead>\n",
              "  <tbody>\n",
              "  </tbody>\n",
              "</table>\n",
              "</div>"
            ],
            "text/plain": [
              "Empty DataFrame\n",
              "Columns: [Year, LocationAbbr, LocationDesc, DataSource, PriorityArea1, PriorityArea2, PriorityArea3, PriorityArea4, Category, Topic, Indicator, Break_Out_Category, Break_Out, Data_Value_Type, Data_Value_Unit, Data_Value, Data_Value_Footnote_Symbol, Data_Value_Footnote, Confidence_limit_Low, Confidence_limit_High, CategoryId, TopicId, IndicatorID, BreakOutCategoryId, BreakOutId, LocationID, GeoLocation]\n",
              "Index: []"
            ]
          },
          "metadata": {
            "tags": []
          },
          "execution_count": 96
        }
      ]
    },
    {
      "cell_type": "code",
      "metadata": {
        "id": "i7OgK4TS0Opq",
        "colab_type": "code",
        "colab": {
          "base_uri": "https://localhost:8080/",
          "height": 69
        },
        "outputId": "f19c7f06-b84a-4d45-95fe-3a4967dc2d20"
      },
      "source": [
        "survey.query('Data_Value > Confidence_limit_High')"
      ],
      "execution_count": 97,
      "outputs": [
        {
          "output_type": "execute_result",
          "data": {
            "text/html": [
              "<div>\n",
              "<style scoped>\n",
              "    .dataframe tbody tr th:only-of-type {\n",
              "        vertical-align: middle;\n",
              "    }\n",
              "\n",
              "    .dataframe tbody tr th {\n",
              "        vertical-align: top;\n",
              "    }\n",
              "\n",
              "    .dataframe thead th {\n",
              "        text-align: right;\n",
              "    }\n",
              "</style>\n",
              "<table border=\"1\" class=\"dataframe\">\n",
              "  <thead>\n",
              "    <tr style=\"text-align: right;\">\n",
              "      <th></th>\n",
              "      <th>Year</th>\n",
              "      <th>LocationAbbr</th>\n",
              "      <th>LocationDesc</th>\n",
              "      <th>DataSource</th>\n",
              "      <th>PriorityArea1</th>\n",
              "      <th>PriorityArea2</th>\n",
              "      <th>PriorityArea3</th>\n",
              "      <th>PriorityArea4</th>\n",
              "      <th>Category</th>\n",
              "      <th>Topic</th>\n",
              "      <th>Indicator</th>\n",
              "      <th>Break_Out_Category</th>\n",
              "      <th>Break_Out</th>\n",
              "      <th>Data_Value_Type</th>\n",
              "      <th>Data_Value_Unit</th>\n",
              "      <th>Data_Value</th>\n",
              "      <th>Data_Value_Footnote_Symbol</th>\n",
              "      <th>Data_Value_Footnote</th>\n",
              "      <th>Confidence_limit_Low</th>\n",
              "      <th>Confidence_limit_High</th>\n",
              "      <th>CategoryId</th>\n",
              "      <th>TopicId</th>\n",
              "      <th>IndicatorID</th>\n",
              "      <th>BreakOutCategoryId</th>\n",
              "      <th>BreakOutId</th>\n",
              "      <th>LocationID</th>\n",
              "      <th>GeoLocation</th>\n",
              "    </tr>\n",
              "  </thead>\n",
              "  <tbody>\n",
              "  </tbody>\n",
              "</table>\n",
              "</div>"
            ],
            "text/plain": [
              "Empty DataFrame\n",
              "Columns: [Year, LocationAbbr, LocationDesc, DataSource, PriorityArea1, PriorityArea2, PriorityArea3, PriorityArea4, Category, Topic, Indicator, Break_Out_Category, Break_Out, Data_Value_Type, Data_Value_Unit, Data_Value, Data_Value_Footnote_Symbol, Data_Value_Footnote, Confidence_limit_Low, Confidence_limit_High, CategoryId, TopicId, IndicatorID, BreakOutCategoryId, BreakOutId, LocationID, GeoLocation]\n",
              "Index: []"
            ]
          },
          "metadata": {
            "tags": []
          },
          "execution_count": 97
        }
      ]
    },
    {
      "cell_type": "code",
      "metadata": {
        "id": "HMlKtcos0ZXs",
        "colab_type": "code",
        "colab": {
          "base_uri": "https://localhost:8080/",
          "height": 1000
        },
        "outputId": "b90ef2a6-836f-43bf-9c15-fe821d19afed"
      },
      "source": [
        "survey.query('Data_Value < Confidence_limit_High')"
      ],
      "execution_count": 98,
      "outputs": [
        {
          "output_type": "execute_result",
          "data": {
            "text/html": [
              "<div>\n",
              "<style scoped>\n",
              "    .dataframe tbody tr th:only-of-type {\n",
              "        vertical-align: middle;\n",
              "    }\n",
              "\n",
              "    .dataframe tbody tr th {\n",
              "        vertical-align: top;\n",
              "    }\n",
              "\n",
              "    .dataframe thead th {\n",
              "        text-align: right;\n",
              "    }\n",
              "</style>\n",
              "<table border=\"1\" class=\"dataframe\">\n",
              "  <thead>\n",
              "    <tr style=\"text-align: right;\">\n",
              "      <th></th>\n",
              "      <th>Year</th>\n",
              "      <th>LocationAbbr</th>\n",
              "      <th>LocationDesc</th>\n",
              "      <th>DataSource</th>\n",
              "      <th>PriorityArea1</th>\n",
              "      <th>PriorityArea2</th>\n",
              "      <th>PriorityArea3</th>\n",
              "      <th>PriorityArea4</th>\n",
              "      <th>Category</th>\n",
              "      <th>Topic</th>\n",
              "      <th>Indicator</th>\n",
              "      <th>Break_Out_Category</th>\n",
              "      <th>Break_Out</th>\n",
              "      <th>Data_Value_Type</th>\n",
              "      <th>Data_Value_Unit</th>\n",
              "      <th>Data_Value</th>\n",
              "      <th>Data_Value_Footnote_Symbol</th>\n",
              "      <th>Data_Value_Footnote</th>\n",
              "      <th>Confidence_limit_Low</th>\n",
              "      <th>Confidence_limit_High</th>\n",
              "      <th>CategoryId</th>\n",
              "      <th>TopicId</th>\n",
              "      <th>IndicatorID</th>\n",
              "      <th>BreakOutCategoryId</th>\n",
              "      <th>BreakOutId</th>\n",
              "      <th>LocationID</th>\n",
              "      <th>GeoLocation</th>\n",
              "    </tr>\n",
              "  </thead>\n",
              "  <tbody>\n",
              "    <tr>\n",
              "      <th>0</th>\n",
              "      <td>2011-2012</td>\n",
              "      <td>US</td>\n",
              "      <td>United States</td>\n",
              "      <td>NHANES</td>\n",
              "      <td>Million Hearts®</td>\n",
              "      <td>ABCS</td>\n",
              "      <td>None</td>\n",
              "      <td>None</td>\n",
              "      <td>Risk Factors</td>\n",
              "      <td>Aspirin use</td>\n",
              "      <td>Prevalence of aspirin use for secondary preven...</td>\n",
              "      <td>Race</td>\n",
              "      <td>Non-Hispanic Black</td>\n",
              "      <td>Percentage</td>\n",
              "      <td>%</td>\n",
              "      <td>67.9</td>\n",
              "      <td>NaN</td>\n",
              "      <td>NaN</td>\n",
              "      <td>56.1</td>\n",
              "      <td>77.8</td>\n",
              "      <td>C2</td>\n",
              "      <td>T8</td>\n",
              "      <td>NH010</td>\n",
              "      <td>BOC04</td>\n",
              "      <td>RAC02</td>\n",
              "      <td>NaN</td>\n",
              "      <td>NaN</td>\n",
              "    </tr>\n",
              "    <tr>\n",
              "      <th>1</th>\n",
              "      <td>2011-2012</td>\n",
              "      <td>US</td>\n",
              "      <td>United States</td>\n",
              "      <td>NHANES</td>\n",
              "      <td>Million Hearts®</td>\n",
              "      <td>ABCS</td>\n",
              "      <td>None</td>\n",
              "      <td>None</td>\n",
              "      <td>Risk Factors</td>\n",
              "      <td>Aspirin use</td>\n",
              "      <td>Prevalence of aspirin use for secondary preven...</td>\n",
              "      <td>Overall</td>\n",
              "      <td>Overall</td>\n",
              "      <td>Percentage</td>\n",
              "      <td>%</td>\n",
              "      <td>75.7</td>\n",
              "      <td>NaN</td>\n",
              "      <td>NaN</td>\n",
              "      <td>62.5</td>\n",
              "      <td>85.3</td>\n",
              "      <td>C2</td>\n",
              "      <td>T8</td>\n",
              "      <td>NH010</td>\n",
              "      <td>BOC01</td>\n",
              "      <td>OVR01</td>\n",
              "      <td>NaN</td>\n",
              "      <td>NaN</td>\n",
              "    </tr>\n",
              "    <tr>\n",
              "      <th>2</th>\n",
              "      <td>2011-2012</td>\n",
              "      <td>US</td>\n",
              "      <td>United States</td>\n",
              "      <td>NHANES</td>\n",
              "      <td>Million Hearts®</td>\n",
              "      <td>ABCS</td>\n",
              "      <td>None</td>\n",
              "      <td>None</td>\n",
              "      <td>Risk Factors</td>\n",
              "      <td>Aspirin use</td>\n",
              "      <td>Prevalence of aspirin use for secondary preven...</td>\n",
              "      <td>Race</td>\n",
              "      <td>Non-Hispanic White</td>\n",
              "      <td>Percentage</td>\n",
              "      <td>%</td>\n",
              "      <td>78.3</td>\n",
              "      <td>NaN</td>\n",
              "      <td>NaN</td>\n",
              "      <td>56.9</td>\n",
              "      <td>90.8</td>\n",
              "      <td>C2</td>\n",
              "      <td>T8</td>\n",
              "      <td>NH010</td>\n",
              "      <td>BOC04</td>\n",
              "      <td>RAC01</td>\n",
              "      <td>NaN</td>\n",
              "      <td>NaN</td>\n",
              "    </tr>\n",
              "    <tr>\n",
              "      <th>3</th>\n",
              "      <td>2011-2012</td>\n",
              "      <td>US</td>\n",
              "      <td>United States</td>\n",
              "      <td>NHANES</td>\n",
              "      <td>Million Hearts®</td>\n",
              "      <td>ABCS</td>\n",
              "      <td>None</td>\n",
              "      <td>None</td>\n",
              "      <td>Risk Factors</td>\n",
              "      <td>Aspirin use</td>\n",
              "      <td>Prevalence of aspirin use for secondary preven...</td>\n",
              "      <td>Race</td>\n",
              "      <td>Hispanic</td>\n",
              "      <td>Percentage</td>\n",
              "      <td>%</td>\n",
              "      <td>54.8</td>\n",
              "      <td>NaN</td>\n",
              "      <td>NaN</td>\n",
              "      <td>38.6</td>\n",
              "      <td>70.1</td>\n",
              "      <td>C2</td>\n",
              "      <td>T8</td>\n",
              "      <td>NH010</td>\n",
              "      <td>BOC04</td>\n",
              "      <td>RAC04</td>\n",
              "      <td>NaN</td>\n",
              "      <td>NaN</td>\n",
              "    </tr>\n",
              "    <tr>\n",
              "      <th>4</th>\n",
              "      <td>2011-2012</td>\n",
              "      <td>US</td>\n",
              "      <td>United States</td>\n",
              "      <td>NHANES</td>\n",
              "      <td>Million Hearts®</td>\n",
              "      <td>ABCS</td>\n",
              "      <td>None</td>\n",
              "      <td>None</td>\n",
              "      <td>Risk Factors</td>\n",
              "      <td>Aspirin use</td>\n",
              "      <td>Prevalence of aspirin use for secondary preven...</td>\n",
              "      <td>Gender</td>\n",
              "      <td>Female</td>\n",
              "      <td>Percentage</td>\n",
              "      <td>%</td>\n",
              "      <td>73.8</td>\n",
              "      <td>NaN</td>\n",
              "      <td>NaN</td>\n",
              "      <td>61.2</td>\n",
              "      <td>83.4</td>\n",
              "      <td>C2</td>\n",
              "      <td>T8</td>\n",
              "      <td>NH010</td>\n",
              "      <td>BOC02</td>\n",
              "      <td>GEN02</td>\n",
              "      <td>NaN</td>\n",
              "      <td>NaN</td>\n",
              "    </tr>\n",
              "    <tr>\n",
              "      <th>...</th>\n",
              "      <td>...</td>\n",
              "      <td>...</td>\n",
              "      <td>...</td>\n",
              "      <td>...</td>\n",
              "      <td>...</td>\n",
              "      <td>...</td>\n",
              "      <td>...</td>\n",
              "      <td>...</td>\n",
              "      <td>...</td>\n",
              "      <td>...</td>\n",
              "      <td>...</td>\n",
              "      <td>...</td>\n",
              "      <td>...</td>\n",
              "      <td>...</td>\n",
              "      <td>...</td>\n",
              "      <td>...</td>\n",
              "      <td>...</td>\n",
              "      <td>...</td>\n",
              "      <td>...</td>\n",
              "      <td>...</td>\n",
              "      <td>...</td>\n",
              "      <td>...</td>\n",
              "      <td>...</td>\n",
              "      <td>...</td>\n",
              "      <td>...</td>\n",
              "      <td>...</td>\n",
              "      <td>...</td>\n",
              "    </tr>\n",
              "    <tr>\n",
              "      <th>4819</th>\n",
              "      <td>2011-2012</td>\n",
              "      <td>US</td>\n",
              "      <td>United States</td>\n",
              "      <td>NHANES</td>\n",
              "      <td>None</td>\n",
              "      <td>None</td>\n",
              "      <td>Healthy People 2020</td>\n",
              "      <td>None</td>\n",
              "      <td>Risk Factors</td>\n",
              "      <td>Nutrition</td>\n",
              "      <td>Nutrition and Weight Status Objective 19: Mean...</td>\n",
              "      <td>Age</td>\n",
              "      <td>35+</td>\n",
              "      <td>Mean</td>\n",
              "      <td>Mean</td>\n",
              "      <td>3476.6</td>\n",
              "      <td>NaN</td>\n",
              "      <td>NaN</td>\n",
              "      <td>3391.1</td>\n",
              "      <td>3562.2</td>\n",
              "      <td>C2</td>\n",
              "      <td>T12</td>\n",
              "      <td>NHP3N19</td>\n",
              "      <td>BOC03</td>\n",
              "      <td>AGE07</td>\n",
              "      <td>NaN</td>\n",
              "      <td>NaN</td>\n",
              "    </tr>\n",
              "    <tr>\n",
              "      <th>4820</th>\n",
              "      <td>2011-2012</td>\n",
              "      <td>US</td>\n",
              "      <td>United States</td>\n",
              "      <td>NHANES</td>\n",
              "      <td>None</td>\n",
              "      <td>None</td>\n",
              "      <td>Healthy People 2020</td>\n",
              "      <td>None</td>\n",
              "      <td>Risk Factors</td>\n",
              "      <td>Nutrition</td>\n",
              "      <td>Nutrition and Weight Status Objective 19: Mean...</td>\n",
              "      <td>Race</td>\n",
              "      <td>White</td>\n",
              "      <td>Mean</td>\n",
              "      <td>Mean</td>\n",
              "      <td>3386.0</td>\n",
              "      <td>NaN</td>\n",
              "      <td>NaN</td>\n",
              "      <td>3222.9</td>\n",
              "      <td>3549.1</td>\n",
              "      <td>C2</td>\n",
              "      <td>T12</td>\n",
              "      <td>NHP3N19</td>\n",
              "      <td>BOC04</td>\n",
              "      <td>RAC05</td>\n",
              "      <td>NaN</td>\n",
              "      <td>NaN</td>\n",
              "    </tr>\n",
              "    <tr>\n",
              "      <th>4821</th>\n",
              "      <td>2011-2012</td>\n",
              "      <td>US</td>\n",
              "      <td>United States</td>\n",
              "      <td>NHANES</td>\n",
              "      <td>None</td>\n",
              "      <td>None</td>\n",
              "      <td>Healthy People 2020</td>\n",
              "      <td>None</td>\n",
              "      <td>Risk Factors</td>\n",
              "      <td>Nutrition</td>\n",
              "      <td>Nutrition and Weight Status Objective 19: Mean...</td>\n",
              "      <td>Age</td>\n",
              "      <td>65+</td>\n",
              "      <td>Mean</td>\n",
              "      <td>Mean</td>\n",
              "      <td>3048.0</td>\n",
              "      <td>NaN</td>\n",
              "      <td>NaN</td>\n",
              "      <td>2948.8</td>\n",
              "      <td>3147.2</td>\n",
              "      <td>C2</td>\n",
              "      <td>T12</td>\n",
              "      <td>NHP3N19</td>\n",
              "      <td>BOC03</td>\n",
              "      <td>AGE06</td>\n",
              "      <td>NaN</td>\n",
              "      <td>NaN</td>\n",
              "    </tr>\n",
              "    <tr>\n",
              "      <th>4822</th>\n",
              "      <td>2011-2012</td>\n",
              "      <td>US</td>\n",
              "      <td>United States</td>\n",
              "      <td>NHANES</td>\n",
              "      <td>None</td>\n",
              "      <td>None</td>\n",
              "      <td>Healthy People 2020</td>\n",
              "      <td>None</td>\n",
              "      <td>Risk Factors</td>\n",
              "      <td>Nutrition</td>\n",
              "      <td>Nutrition and Weight Status Objective 19: Mean...</td>\n",
              "      <td>Gender</td>\n",
              "      <td>Female</td>\n",
              "      <td>Mean</td>\n",
              "      <td>Mean</td>\n",
              "      <td>3006.7</td>\n",
              "      <td>NaN</td>\n",
              "      <td>NaN</td>\n",
              "      <td>2938.6</td>\n",
              "      <td>3074.9</td>\n",
              "      <td>C2</td>\n",
              "      <td>T12</td>\n",
              "      <td>NHP3N19</td>\n",
              "      <td>BOC02</td>\n",
              "      <td>GEN02</td>\n",
              "      <td>NaN</td>\n",
              "      <td>NaN</td>\n",
              "    </tr>\n",
              "    <tr>\n",
              "      <th>4823</th>\n",
              "      <td>2011-2012</td>\n",
              "      <td>US</td>\n",
              "      <td>United States</td>\n",
              "      <td>NHANES</td>\n",
              "      <td>None</td>\n",
              "      <td>None</td>\n",
              "      <td>Healthy People 2020</td>\n",
              "      <td>None</td>\n",
              "      <td>Risk Factors</td>\n",
              "      <td>Nutrition</td>\n",
              "      <td>Nutrition and Weight Status Objective 19: Mean...</td>\n",
              "      <td>Age</td>\n",
              "      <td>75+</td>\n",
              "      <td>Mean</td>\n",
              "      <td>Mean</td>\n",
              "      <td>2860.7</td>\n",
              "      <td>NaN</td>\n",
              "      <td>NaN</td>\n",
              "      <td>2725.7</td>\n",
              "      <td>2995.7</td>\n",
              "      <td>C2</td>\n",
              "      <td>T12</td>\n",
              "      <td>NHP3N19</td>\n",
              "      <td>BOC03</td>\n",
              "      <td>AGE08</td>\n",
              "      <td>NaN</td>\n",
              "      <td>NaN</td>\n",
              "    </tr>\n",
              "  </tbody>\n",
              "</table>\n",
              "<p>4401 rows × 27 columns</p>\n",
              "</div>"
            ],
            "text/plain": [
              "           Year LocationAbbr   LocationDesc  ... BreakOutId LocationID GeoLocation\n",
              "0     2011-2012           US  United States  ...      RAC02        NaN         NaN\n",
              "1     2011-2012           US  United States  ...      OVR01        NaN         NaN\n",
              "2     2011-2012           US  United States  ...      RAC01        NaN         NaN\n",
              "3     2011-2012           US  United States  ...      RAC04        NaN         NaN\n",
              "4     2011-2012           US  United States  ...      GEN02        NaN         NaN\n",
              "...         ...          ...            ...  ...        ...        ...         ...\n",
              "4819  2011-2012           US  United States  ...      AGE07        NaN         NaN\n",
              "4820  2011-2012           US  United States  ...      RAC05        NaN         NaN\n",
              "4821  2011-2012           US  United States  ...      AGE06        NaN         NaN\n",
              "4822  2011-2012           US  United States  ...      GEN02        NaN         NaN\n",
              "4823  2011-2012           US  United States  ...      AGE08        NaN         NaN\n",
              "\n",
              "[4401 rows x 27 columns]"
            ]
          },
          "metadata": {
            "tags": []
          },
          "execution_count": 98
        }
      ]
    },
    {
      "cell_type": "code",
      "metadata": {
        "id": "FLHistja_5TV",
        "colab_type": "code",
        "colab": {
          "base_uri": "https://localhost:8080/",
          "height": 1000
        },
        "outputId": "07b325dc-f978-4ac5-a180-615af58f96d8"
      },
      "source": [
        "survey.interpolate()"
      ],
      "execution_count": 99,
      "outputs": [
        {
          "output_type": "execute_result",
          "data": {
            "text/html": [
              "<div>\n",
              "<style scoped>\n",
              "    .dataframe tbody tr th:only-of-type {\n",
              "        vertical-align: middle;\n",
              "    }\n",
              "\n",
              "    .dataframe tbody tr th {\n",
              "        vertical-align: top;\n",
              "    }\n",
              "\n",
              "    .dataframe thead th {\n",
              "        text-align: right;\n",
              "    }\n",
              "</style>\n",
              "<table border=\"1\" class=\"dataframe\">\n",
              "  <thead>\n",
              "    <tr style=\"text-align: right;\">\n",
              "      <th></th>\n",
              "      <th>Year</th>\n",
              "      <th>LocationAbbr</th>\n",
              "      <th>LocationDesc</th>\n",
              "      <th>DataSource</th>\n",
              "      <th>PriorityArea1</th>\n",
              "      <th>PriorityArea2</th>\n",
              "      <th>PriorityArea3</th>\n",
              "      <th>PriorityArea4</th>\n",
              "      <th>Category</th>\n",
              "      <th>Topic</th>\n",
              "      <th>Indicator</th>\n",
              "      <th>Break_Out_Category</th>\n",
              "      <th>Break_Out</th>\n",
              "      <th>Data_Value_Type</th>\n",
              "      <th>Data_Value_Unit</th>\n",
              "      <th>Data_Value</th>\n",
              "      <th>Data_Value_Footnote_Symbol</th>\n",
              "      <th>Data_Value_Footnote</th>\n",
              "      <th>Confidence_limit_Low</th>\n",
              "      <th>Confidence_limit_High</th>\n",
              "      <th>CategoryId</th>\n",
              "      <th>TopicId</th>\n",
              "      <th>IndicatorID</th>\n",
              "      <th>BreakOutCategoryId</th>\n",
              "      <th>BreakOutId</th>\n",
              "      <th>LocationID</th>\n",
              "      <th>GeoLocation</th>\n",
              "    </tr>\n",
              "  </thead>\n",
              "  <tbody>\n",
              "    <tr>\n",
              "      <th>0</th>\n",
              "      <td>2011-2012</td>\n",
              "      <td>US</td>\n",
              "      <td>United States</td>\n",
              "      <td>NHANES</td>\n",
              "      <td>Million Hearts®</td>\n",
              "      <td>ABCS</td>\n",
              "      <td>None</td>\n",
              "      <td>None</td>\n",
              "      <td>Risk Factors</td>\n",
              "      <td>Aspirin use</td>\n",
              "      <td>Prevalence of aspirin use for secondary preven...</td>\n",
              "      <td>Race</td>\n",
              "      <td>Non-Hispanic Black</td>\n",
              "      <td>Percentage</td>\n",
              "      <td>%</td>\n",
              "      <td>67.9</td>\n",
              "      <td>NaN</td>\n",
              "      <td>NaN</td>\n",
              "      <td>56.1</td>\n",
              "      <td>77.8</td>\n",
              "      <td>C2</td>\n",
              "      <td>T8</td>\n",
              "      <td>NH010</td>\n",
              "      <td>BOC04</td>\n",
              "      <td>RAC02</td>\n",
              "      <td>NaN</td>\n",
              "      <td>NaN</td>\n",
              "    </tr>\n",
              "    <tr>\n",
              "      <th>1</th>\n",
              "      <td>2011-2012</td>\n",
              "      <td>US</td>\n",
              "      <td>United States</td>\n",
              "      <td>NHANES</td>\n",
              "      <td>Million Hearts®</td>\n",
              "      <td>ABCS</td>\n",
              "      <td>None</td>\n",
              "      <td>None</td>\n",
              "      <td>Risk Factors</td>\n",
              "      <td>Aspirin use</td>\n",
              "      <td>Prevalence of aspirin use for secondary preven...</td>\n",
              "      <td>Overall</td>\n",
              "      <td>Overall</td>\n",
              "      <td>Percentage</td>\n",
              "      <td>%</td>\n",
              "      <td>75.7</td>\n",
              "      <td>NaN</td>\n",
              "      <td>NaN</td>\n",
              "      <td>62.5</td>\n",
              "      <td>85.3</td>\n",
              "      <td>C2</td>\n",
              "      <td>T8</td>\n",
              "      <td>NH010</td>\n",
              "      <td>BOC01</td>\n",
              "      <td>OVR01</td>\n",
              "      <td>NaN</td>\n",
              "      <td>NaN</td>\n",
              "    </tr>\n",
              "    <tr>\n",
              "      <th>2</th>\n",
              "      <td>2011-2012</td>\n",
              "      <td>US</td>\n",
              "      <td>United States</td>\n",
              "      <td>NHANES</td>\n",
              "      <td>Million Hearts®</td>\n",
              "      <td>ABCS</td>\n",
              "      <td>None</td>\n",
              "      <td>None</td>\n",
              "      <td>Risk Factors</td>\n",
              "      <td>Aspirin use</td>\n",
              "      <td>Prevalence of aspirin use for secondary preven...</td>\n",
              "      <td>Race</td>\n",
              "      <td>Non-Hispanic White</td>\n",
              "      <td>Percentage</td>\n",
              "      <td>%</td>\n",
              "      <td>78.3</td>\n",
              "      <td>NaN</td>\n",
              "      <td>NaN</td>\n",
              "      <td>56.9</td>\n",
              "      <td>90.8</td>\n",
              "      <td>C2</td>\n",
              "      <td>T8</td>\n",
              "      <td>NH010</td>\n",
              "      <td>BOC04</td>\n",
              "      <td>RAC01</td>\n",
              "      <td>NaN</td>\n",
              "      <td>NaN</td>\n",
              "    </tr>\n",
              "    <tr>\n",
              "      <th>3</th>\n",
              "      <td>2011-2012</td>\n",
              "      <td>US</td>\n",
              "      <td>United States</td>\n",
              "      <td>NHANES</td>\n",
              "      <td>Million Hearts®</td>\n",
              "      <td>ABCS</td>\n",
              "      <td>None</td>\n",
              "      <td>None</td>\n",
              "      <td>Risk Factors</td>\n",
              "      <td>Aspirin use</td>\n",
              "      <td>Prevalence of aspirin use for secondary preven...</td>\n",
              "      <td>Race</td>\n",
              "      <td>Hispanic</td>\n",
              "      <td>Percentage</td>\n",
              "      <td>%</td>\n",
              "      <td>54.8</td>\n",
              "      <td>NaN</td>\n",
              "      <td>NaN</td>\n",
              "      <td>38.6</td>\n",
              "      <td>70.1</td>\n",
              "      <td>C2</td>\n",
              "      <td>T8</td>\n",
              "      <td>NH010</td>\n",
              "      <td>BOC04</td>\n",
              "      <td>RAC04</td>\n",
              "      <td>NaN</td>\n",
              "      <td>NaN</td>\n",
              "    </tr>\n",
              "    <tr>\n",
              "      <th>4</th>\n",
              "      <td>2011-2012</td>\n",
              "      <td>US</td>\n",
              "      <td>United States</td>\n",
              "      <td>NHANES</td>\n",
              "      <td>Million Hearts®</td>\n",
              "      <td>ABCS</td>\n",
              "      <td>None</td>\n",
              "      <td>None</td>\n",
              "      <td>Risk Factors</td>\n",
              "      <td>Aspirin use</td>\n",
              "      <td>Prevalence of aspirin use for secondary preven...</td>\n",
              "      <td>Gender</td>\n",
              "      <td>Female</td>\n",
              "      <td>Percentage</td>\n",
              "      <td>%</td>\n",
              "      <td>73.8</td>\n",
              "      <td>NaN</td>\n",
              "      <td>NaN</td>\n",
              "      <td>61.2</td>\n",
              "      <td>83.4</td>\n",
              "      <td>C2</td>\n",
              "      <td>T8</td>\n",
              "      <td>NH010</td>\n",
              "      <td>BOC02</td>\n",
              "      <td>GEN02</td>\n",
              "      <td>NaN</td>\n",
              "      <td>NaN</td>\n",
              "    </tr>\n",
              "    <tr>\n",
              "      <th>...</th>\n",
              "      <td>...</td>\n",
              "      <td>...</td>\n",
              "      <td>...</td>\n",
              "      <td>...</td>\n",
              "      <td>...</td>\n",
              "      <td>...</td>\n",
              "      <td>...</td>\n",
              "      <td>...</td>\n",
              "      <td>...</td>\n",
              "      <td>...</td>\n",
              "      <td>...</td>\n",
              "      <td>...</td>\n",
              "      <td>...</td>\n",
              "      <td>...</td>\n",
              "      <td>...</td>\n",
              "      <td>...</td>\n",
              "      <td>...</td>\n",
              "      <td>...</td>\n",
              "      <td>...</td>\n",
              "      <td>...</td>\n",
              "      <td>...</td>\n",
              "      <td>...</td>\n",
              "      <td>...</td>\n",
              "      <td>...</td>\n",
              "      <td>...</td>\n",
              "      <td>...</td>\n",
              "      <td>...</td>\n",
              "    </tr>\n",
              "    <tr>\n",
              "      <th>4819</th>\n",
              "      <td>2011-2012</td>\n",
              "      <td>US</td>\n",
              "      <td>United States</td>\n",
              "      <td>NHANES</td>\n",
              "      <td>None</td>\n",
              "      <td>None</td>\n",
              "      <td>Healthy People 2020</td>\n",
              "      <td>None</td>\n",
              "      <td>Risk Factors</td>\n",
              "      <td>Nutrition</td>\n",
              "      <td>Nutrition and Weight Status Objective 19: Mean...</td>\n",
              "      <td>Age</td>\n",
              "      <td>35+</td>\n",
              "      <td>Mean</td>\n",
              "      <td>Mean</td>\n",
              "      <td>3476.6</td>\n",
              "      <td>NaN</td>\n",
              "      <td>NaN</td>\n",
              "      <td>3391.1</td>\n",
              "      <td>3562.2</td>\n",
              "      <td>C2</td>\n",
              "      <td>T12</td>\n",
              "      <td>NHP3N19</td>\n",
              "      <td>BOC03</td>\n",
              "      <td>AGE07</td>\n",
              "      <td>NaN</td>\n",
              "      <td>NaN</td>\n",
              "    </tr>\n",
              "    <tr>\n",
              "      <th>4820</th>\n",
              "      <td>2011-2012</td>\n",
              "      <td>US</td>\n",
              "      <td>United States</td>\n",
              "      <td>NHANES</td>\n",
              "      <td>None</td>\n",
              "      <td>None</td>\n",
              "      <td>Healthy People 2020</td>\n",
              "      <td>None</td>\n",
              "      <td>Risk Factors</td>\n",
              "      <td>Nutrition</td>\n",
              "      <td>Nutrition and Weight Status Objective 19: Mean...</td>\n",
              "      <td>Race</td>\n",
              "      <td>White</td>\n",
              "      <td>Mean</td>\n",
              "      <td>Mean</td>\n",
              "      <td>3386.0</td>\n",
              "      <td>NaN</td>\n",
              "      <td>NaN</td>\n",
              "      <td>3222.9</td>\n",
              "      <td>3549.1</td>\n",
              "      <td>C2</td>\n",
              "      <td>T12</td>\n",
              "      <td>NHP3N19</td>\n",
              "      <td>BOC04</td>\n",
              "      <td>RAC05</td>\n",
              "      <td>NaN</td>\n",
              "      <td>NaN</td>\n",
              "    </tr>\n",
              "    <tr>\n",
              "      <th>4821</th>\n",
              "      <td>2011-2012</td>\n",
              "      <td>US</td>\n",
              "      <td>United States</td>\n",
              "      <td>NHANES</td>\n",
              "      <td>None</td>\n",
              "      <td>None</td>\n",
              "      <td>Healthy People 2020</td>\n",
              "      <td>None</td>\n",
              "      <td>Risk Factors</td>\n",
              "      <td>Nutrition</td>\n",
              "      <td>Nutrition and Weight Status Objective 19: Mean...</td>\n",
              "      <td>Age</td>\n",
              "      <td>65+</td>\n",
              "      <td>Mean</td>\n",
              "      <td>Mean</td>\n",
              "      <td>3048.0</td>\n",
              "      <td>NaN</td>\n",
              "      <td>NaN</td>\n",
              "      <td>2948.8</td>\n",
              "      <td>3147.2</td>\n",
              "      <td>C2</td>\n",
              "      <td>T12</td>\n",
              "      <td>NHP3N19</td>\n",
              "      <td>BOC03</td>\n",
              "      <td>AGE06</td>\n",
              "      <td>NaN</td>\n",
              "      <td>NaN</td>\n",
              "    </tr>\n",
              "    <tr>\n",
              "      <th>4822</th>\n",
              "      <td>2011-2012</td>\n",
              "      <td>US</td>\n",
              "      <td>United States</td>\n",
              "      <td>NHANES</td>\n",
              "      <td>None</td>\n",
              "      <td>None</td>\n",
              "      <td>Healthy People 2020</td>\n",
              "      <td>None</td>\n",
              "      <td>Risk Factors</td>\n",
              "      <td>Nutrition</td>\n",
              "      <td>Nutrition and Weight Status Objective 19: Mean...</td>\n",
              "      <td>Gender</td>\n",
              "      <td>Female</td>\n",
              "      <td>Mean</td>\n",
              "      <td>Mean</td>\n",
              "      <td>3006.7</td>\n",
              "      <td>NaN</td>\n",
              "      <td>NaN</td>\n",
              "      <td>2938.6</td>\n",
              "      <td>3074.9</td>\n",
              "      <td>C2</td>\n",
              "      <td>T12</td>\n",
              "      <td>NHP3N19</td>\n",
              "      <td>BOC02</td>\n",
              "      <td>GEN02</td>\n",
              "      <td>NaN</td>\n",
              "      <td>NaN</td>\n",
              "    </tr>\n",
              "    <tr>\n",
              "      <th>4823</th>\n",
              "      <td>2011-2012</td>\n",
              "      <td>US</td>\n",
              "      <td>United States</td>\n",
              "      <td>NHANES</td>\n",
              "      <td>None</td>\n",
              "      <td>None</td>\n",
              "      <td>Healthy People 2020</td>\n",
              "      <td>None</td>\n",
              "      <td>Risk Factors</td>\n",
              "      <td>Nutrition</td>\n",
              "      <td>Nutrition and Weight Status Objective 19: Mean...</td>\n",
              "      <td>Age</td>\n",
              "      <td>75+</td>\n",
              "      <td>Mean</td>\n",
              "      <td>Mean</td>\n",
              "      <td>2860.7</td>\n",
              "      <td>NaN</td>\n",
              "      <td>NaN</td>\n",
              "      <td>2725.7</td>\n",
              "      <td>2995.7</td>\n",
              "      <td>C2</td>\n",
              "      <td>T12</td>\n",
              "      <td>NHP3N19</td>\n",
              "      <td>BOC03</td>\n",
              "      <td>AGE08</td>\n",
              "      <td>NaN</td>\n",
              "      <td>NaN</td>\n",
              "    </tr>\n",
              "  </tbody>\n",
              "</table>\n",
              "<p>4824 rows × 27 columns</p>\n",
              "</div>"
            ],
            "text/plain": [
              "           Year LocationAbbr   LocationDesc  ... BreakOutId LocationID GeoLocation\n",
              "0     2011-2012           US  United States  ...      RAC02        NaN         NaN\n",
              "1     2011-2012           US  United States  ...      OVR01        NaN         NaN\n",
              "2     2011-2012           US  United States  ...      RAC01        NaN         NaN\n",
              "3     2011-2012           US  United States  ...      RAC04        NaN         NaN\n",
              "4     2011-2012           US  United States  ...      GEN02        NaN         NaN\n",
              "...         ...          ...            ...  ...        ...        ...         ...\n",
              "4819  2011-2012           US  United States  ...      AGE07        NaN         NaN\n",
              "4820  2011-2012           US  United States  ...      RAC05        NaN         NaN\n",
              "4821  2011-2012           US  United States  ...      AGE06        NaN         NaN\n",
              "4822  2011-2012           US  United States  ...      GEN02        NaN         NaN\n",
              "4823  2011-2012           US  United States  ...      AGE08        NaN         NaN\n",
              "\n",
              "[4824 rows x 27 columns]"
            ]
          },
          "metadata": {
            "tags": []
          },
          "execution_count": 99
        }
      ]
    },
    {
      "cell_type": "code",
      "metadata": {
        "id": "RwW2AERF07G1",
        "colab_type": "code",
        "colab": {
          "base_uri": "https://localhost:8080/",
          "height": 34
        },
        "outputId": "befcee59-0635-4691-e233-29be6972f432"
      },
      "source": [
        "len(survey)"
      ],
      "execution_count": 100,
      "outputs": [
        {
          "output_type": "execute_result",
          "data": {
            "text/plain": [
              "4824"
            ]
          },
          "metadata": {
            "tags": []
          },
          "execution_count": 100
        }
      ]
    },
    {
      "cell_type": "markdown",
      "metadata": {
        "id": "FS8bOAWPODmV",
        "colab_type": "text"
      },
      "source": [
        "**Checking how many unique values are in the columns**"
      ]
    },
    {
      "cell_type": "code",
      "metadata": {
        "id": "3HzaAauL0hfh",
        "colab_type": "code",
        "colab": {
          "base_uri": "https://localhost:8080/",
          "height": 34
        },
        "outputId": "570487c6-fa82-400e-eea2-b2d46f90b847"
      },
      "source": [
        "survey['Data_Value'].nunique()"
      ],
      "execution_count": 101,
      "outputs": [
        {
          "output_type": "execute_result",
          "data": {
            "text/plain": [
              "975"
            ]
          },
          "metadata": {
            "tags": []
          },
          "execution_count": 101
        }
      ]
    },
    {
      "cell_type": "code",
      "metadata": {
        "id": "MwHsXWpS1M0s",
        "colab_type": "code",
        "colab": {
          "base_uri": "https://localhost:8080/",
          "height": 34
        },
        "outputId": "ed995cd5-65b7-427b-e27f-5193228b2d26"
      },
      "source": [
        "survey['Confidence_limit_High'].nunique()"
      ],
      "execution_count": 102,
      "outputs": [
        {
          "output_type": "execute_result",
          "data": {
            "text/plain": [
              "1003"
            ]
          },
          "metadata": {
            "tags": []
          },
          "execution_count": 102
        }
      ]
    },
    {
      "cell_type": "markdown",
      "metadata": {
        "id": "EMhXVnS-cBpO",
        "colab_type": "text"
      },
      "source": [
        "**Fill the missing intergers**\n"
      ]
    },
    {
      "cell_type": "markdown",
      "metadata": {
        "id": "xm3FdH4XAA6i",
        "colab_type": "text"
      },
      "source": [
        ""
      ]
    },
    {
      "cell_type": "code",
      "metadata": {
        "id": "BUA2RxA2Xf8n",
        "colab_type": "code",
        "colab": {}
      },
      "source": [
        "survey['PriorityArea4'].replace('None', '1', inplace=True)"
      ],
      "execution_count": 0,
      "outputs": []
    },
    {
      "cell_type": "code",
      "metadata": {
        "colab_type": "code",
        "id": "y_isan8-XUtr",
        "colab": {}
      },
      "source": [
        "survey['Data_Value_Footnote_Symbol'].fillna(14, inplace=True)"
      ],
      "execution_count": 0,
      "outputs": []
    },
    {
      "cell_type": "code",
      "metadata": {
        "id": "NtQhsfp7ZCjo",
        "colab_type": "code",
        "colab": {}
      },
      "source": [
        "survey['Data_Value_Footnote'].fillna(22, inplace=True)"
      ],
      "execution_count": 0,
      "outputs": []
    },
    {
      "cell_type": "code",
      "metadata": {
        "colab_type": "code",
        "id": "01PPXXUDXW-e",
        "colab": {}
      },
      "source": [
        "survey['PriorityArea3'].replace('None', 'Healthy People 2020', inplace=True)"
      ],
      "execution_count": 0,
      "outputs": []
    },
    {
      "cell_type": "code",
      "metadata": {
        "id": "ShDinscNZNpJ",
        "colab_type": "code",
        "colab": {}
      },
      "source": [
        "survey['LocationID'].fillna(10, inplace=True)"
      ],
      "execution_count": 0,
      "outputs": []
    },
    {
      "cell_type": "code",
      "metadata": {
        "id": "ifLrx7vDZg2V",
        "colab_type": "code",
        "colab": {}
      },
      "source": [
        "survey['GeoLocation'].fillna(20, inplace=True)"
      ],
      "execution_count": 0,
      "outputs": []
    },
    {
      "cell_type": "code",
      "metadata": {
        "id": "fhyToUeuos_B",
        "colab_type": "code",
        "colab": {}
      },
      "source": [
        "survey['PriorityArea1'].fillna(10, inplace=True)"
      ],
      "execution_count": 0,
      "outputs": []
    },
    {
      "cell_type": "code",
      "metadata": {
        "id": "ChIMZ0zNo0Q4",
        "colab_type": "code",
        "colab": {}
      },
      "source": [
        "survey['PriorityArea2'].fillna(50, inplace=True)"
      ],
      "execution_count": 0,
      "outputs": []
    },
    {
      "cell_type": "code",
      "metadata": {
        "id": "cfcXRCcwo4mR",
        "colab_type": "code",
        "colab": {}
      },
      "source": [
        "survey['PriorityArea3'].fillna(20, inplace=True)"
      ],
      "execution_count": 0,
      "outputs": []
    },
    {
      "cell_type": "code",
      "metadata": {
        "id": "6gAUrEBpo-lT",
        "colab_type": "code",
        "colab": {}
      },
      "source": [
        "survey['PriorityArea4'].fillna(40, inplace=True)"
      ],
      "execution_count": 0,
      "outputs": []
    },
    {
      "cell_type": "code",
      "metadata": {
        "id": "K11e_j8CpGgZ",
        "colab_type": "code",
        "colab": {}
      },
      "source": [
        "survey['Confidence_limit_Low'].fillna(12, inplace=True)"
      ],
      "execution_count": 0,
      "outputs": []
    },
    {
      "cell_type": "code",
      "metadata": {
        "id": "FcdTYZORpDSy",
        "colab_type": "code",
        "colab": {}
      },
      "source": [
        "survey['Confidence_limit_High'].fillna(13, inplace=True)"
      ],
      "execution_count": 0,
      "outputs": []
    },
    {
      "cell_type": "markdown",
      "metadata": {
        "id": "8cGUfAIM6vBu",
        "colab_type": "text"
      },
      "source": [
        "**I experimented with values other than 0 to fill the NaNs to see if it effected the display in the plots below. It didnt.**"
      ]
    },
    {
      "cell_type": "code",
      "metadata": {
        "id": "LYeqWcw7pKIx",
        "colab_type": "code",
        "outputId": "890dee4b-4a22-40d2-cfd6-8e0b5339dd9b",
        "colab": {
          "base_uri": "https://localhost:8080/",
          "height": 581
        }
      },
      "source": [
        "print(survey.shape)\n",
        "survey['Data_Value'].fillna(17, inplace=True)\n",
        "survey.head()\n"
      ],
      "execution_count": 115,
      "outputs": [
        {
          "output_type": "stream",
          "text": [
            "(4824, 27)\n"
          ],
          "name": "stdout"
        },
        {
          "output_type": "execute_result",
          "data": {
            "text/html": [
              "<div>\n",
              "<style scoped>\n",
              "    .dataframe tbody tr th:only-of-type {\n",
              "        vertical-align: middle;\n",
              "    }\n",
              "\n",
              "    .dataframe tbody tr th {\n",
              "        vertical-align: top;\n",
              "    }\n",
              "\n",
              "    .dataframe thead th {\n",
              "        text-align: right;\n",
              "    }\n",
              "</style>\n",
              "<table border=\"1\" class=\"dataframe\">\n",
              "  <thead>\n",
              "    <tr style=\"text-align: right;\">\n",
              "      <th></th>\n",
              "      <th>Year</th>\n",
              "      <th>LocationAbbr</th>\n",
              "      <th>LocationDesc</th>\n",
              "      <th>DataSource</th>\n",
              "      <th>PriorityArea1</th>\n",
              "      <th>PriorityArea2</th>\n",
              "      <th>PriorityArea3</th>\n",
              "      <th>PriorityArea4</th>\n",
              "      <th>Category</th>\n",
              "      <th>Topic</th>\n",
              "      <th>Indicator</th>\n",
              "      <th>Break_Out_Category</th>\n",
              "      <th>Break_Out</th>\n",
              "      <th>Data_Value_Type</th>\n",
              "      <th>Data_Value_Unit</th>\n",
              "      <th>Data_Value</th>\n",
              "      <th>Data_Value_Footnote_Symbol</th>\n",
              "      <th>Data_Value_Footnote</th>\n",
              "      <th>Confidence_limit_Low</th>\n",
              "      <th>Confidence_limit_High</th>\n",
              "      <th>CategoryId</th>\n",
              "      <th>TopicId</th>\n",
              "      <th>IndicatorID</th>\n",
              "      <th>BreakOutCategoryId</th>\n",
              "      <th>BreakOutId</th>\n",
              "      <th>LocationID</th>\n",
              "      <th>GeoLocation</th>\n",
              "    </tr>\n",
              "  </thead>\n",
              "  <tbody>\n",
              "    <tr>\n",
              "      <th>0</th>\n",
              "      <td>2011-2012</td>\n",
              "      <td>US</td>\n",
              "      <td>United States</td>\n",
              "      <td>NHANES</td>\n",
              "      <td>Million Hearts®</td>\n",
              "      <td>ABCS</td>\n",
              "      <td>Healthy People 2020</td>\n",
              "      <td>1</td>\n",
              "      <td>Risk Factors</td>\n",
              "      <td>Aspirin use</td>\n",
              "      <td>Prevalence of aspirin use for secondary preven...</td>\n",
              "      <td>Race</td>\n",
              "      <td>Non-Hispanic Black</td>\n",
              "      <td>Percentage</td>\n",
              "      <td>%</td>\n",
              "      <td>67.9</td>\n",
              "      <td>14</td>\n",
              "      <td>22</td>\n",
              "      <td>56.1</td>\n",
              "      <td>77.8</td>\n",
              "      <td>C2</td>\n",
              "      <td>T8</td>\n",
              "      <td>NH010</td>\n",
              "      <td>BOC04</td>\n",
              "      <td>RAC02</td>\n",
              "      <td>10.0</td>\n",
              "      <td>20.0</td>\n",
              "    </tr>\n",
              "    <tr>\n",
              "      <th>1</th>\n",
              "      <td>2011-2012</td>\n",
              "      <td>US</td>\n",
              "      <td>United States</td>\n",
              "      <td>NHANES</td>\n",
              "      <td>Million Hearts®</td>\n",
              "      <td>ABCS</td>\n",
              "      <td>Healthy People 2020</td>\n",
              "      <td>1</td>\n",
              "      <td>Risk Factors</td>\n",
              "      <td>Aspirin use</td>\n",
              "      <td>Prevalence of aspirin use for secondary preven...</td>\n",
              "      <td>Overall</td>\n",
              "      <td>Overall</td>\n",
              "      <td>Percentage</td>\n",
              "      <td>%</td>\n",
              "      <td>75.7</td>\n",
              "      <td>14</td>\n",
              "      <td>22</td>\n",
              "      <td>62.5</td>\n",
              "      <td>85.3</td>\n",
              "      <td>C2</td>\n",
              "      <td>T8</td>\n",
              "      <td>NH010</td>\n",
              "      <td>BOC01</td>\n",
              "      <td>OVR01</td>\n",
              "      <td>10.0</td>\n",
              "      <td>20.0</td>\n",
              "    </tr>\n",
              "    <tr>\n",
              "      <th>2</th>\n",
              "      <td>2011-2012</td>\n",
              "      <td>US</td>\n",
              "      <td>United States</td>\n",
              "      <td>NHANES</td>\n",
              "      <td>Million Hearts®</td>\n",
              "      <td>ABCS</td>\n",
              "      <td>Healthy People 2020</td>\n",
              "      <td>1</td>\n",
              "      <td>Risk Factors</td>\n",
              "      <td>Aspirin use</td>\n",
              "      <td>Prevalence of aspirin use for secondary preven...</td>\n",
              "      <td>Race</td>\n",
              "      <td>Non-Hispanic White</td>\n",
              "      <td>Percentage</td>\n",
              "      <td>%</td>\n",
              "      <td>78.3</td>\n",
              "      <td>14</td>\n",
              "      <td>22</td>\n",
              "      <td>56.9</td>\n",
              "      <td>90.8</td>\n",
              "      <td>C2</td>\n",
              "      <td>T8</td>\n",
              "      <td>NH010</td>\n",
              "      <td>BOC04</td>\n",
              "      <td>RAC01</td>\n",
              "      <td>10.0</td>\n",
              "      <td>20.0</td>\n",
              "    </tr>\n",
              "    <tr>\n",
              "      <th>3</th>\n",
              "      <td>2011-2012</td>\n",
              "      <td>US</td>\n",
              "      <td>United States</td>\n",
              "      <td>NHANES</td>\n",
              "      <td>Million Hearts®</td>\n",
              "      <td>ABCS</td>\n",
              "      <td>Healthy People 2020</td>\n",
              "      <td>1</td>\n",
              "      <td>Risk Factors</td>\n",
              "      <td>Aspirin use</td>\n",
              "      <td>Prevalence of aspirin use for secondary preven...</td>\n",
              "      <td>Race</td>\n",
              "      <td>Hispanic</td>\n",
              "      <td>Percentage</td>\n",
              "      <td>%</td>\n",
              "      <td>54.8</td>\n",
              "      <td>14</td>\n",
              "      <td>22</td>\n",
              "      <td>38.6</td>\n",
              "      <td>70.1</td>\n",
              "      <td>C2</td>\n",
              "      <td>T8</td>\n",
              "      <td>NH010</td>\n",
              "      <td>BOC04</td>\n",
              "      <td>RAC04</td>\n",
              "      <td>10.0</td>\n",
              "      <td>20.0</td>\n",
              "    </tr>\n",
              "    <tr>\n",
              "      <th>4</th>\n",
              "      <td>2011-2012</td>\n",
              "      <td>US</td>\n",
              "      <td>United States</td>\n",
              "      <td>NHANES</td>\n",
              "      <td>Million Hearts®</td>\n",
              "      <td>ABCS</td>\n",
              "      <td>Healthy People 2020</td>\n",
              "      <td>1</td>\n",
              "      <td>Risk Factors</td>\n",
              "      <td>Aspirin use</td>\n",
              "      <td>Prevalence of aspirin use for secondary preven...</td>\n",
              "      <td>Gender</td>\n",
              "      <td>Female</td>\n",
              "      <td>Percentage</td>\n",
              "      <td>%</td>\n",
              "      <td>73.8</td>\n",
              "      <td>14</td>\n",
              "      <td>22</td>\n",
              "      <td>61.2</td>\n",
              "      <td>83.4</td>\n",
              "      <td>C2</td>\n",
              "      <td>T8</td>\n",
              "      <td>NH010</td>\n",
              "      <td>BOC02</td>\n",
              "      <td>GEN02</td>\n",
              "      <td>10.0</td>\n",
              "      <td>20.0</td>\n",
              "    </tr>\n",
              "  </tbody>\n",
              "</table>\n",
              "</div>"
            ],
            "text/plain": [
              "        Year LocationAbbr   LocationDesc  ... BreakOutId LocationID GeoLocation\n",
              "0  2011-2012           US  United States  ...      RAC02       10.0        20.0\n",
              "1  2011-2012           US  United States  ...      OVR01       10.0        20.0\n",
              "2  2011-2012           US  United States  ...      RAC01       10.0        20.0\n",
              "3  2011-2012           US  United States  ...      RAC04       10.0        20.0\n",
              "4  2011-2012           US  United States  ...      GEN02       10.0        20.0\n",
              "\n",
              "[5 rows x 27 columns]"
            ]
          },
          "metadata": {
            "tags": []
          },
          "execution_count": 115
        }
      ]
    },
    {
      "cell_type": "code",
      "metadata": {
        "id": "SzqCjrpPgUHA",
        "colab_type": "code",
        "outputId": "e3838585-21da-4f3b-ce1b-8c8ab76ac2b3",
        "colab": {
          "base_uri": "https://localhost:8080/",
          "height": 493
        }
      },
      "source": [
        "survey.isnull().sum()"
      ],
      "execution_count": 116,
      "outputs": [
        {
          "output_type": "execute_result",
          "data": {
            "text/plain": [
              "Year                          0\n",
              "LocationAbbr                  0\n",
              "LocationDesc                  0\n",
              "DataSource                    0\n",
              "PriorityArea1                 0\n",
              "PriorityArea2                 0\n",
              "PriorityArea3                 0\n",
              "PriorityArea4                 0\n",
              "Category                      0\n",
              "Topic                         0\n",
              "Indicator                     0\n",
              "Break_Out_Category            0\n",
              "Break_Out                     0\n",
              "Data_Value_Type               0\n",
              "Data_Value_Unit               0\n",
              "Data_Value                    0\n",
              "Data_Value_Footnote_Symbol    0\n",
              "Data_Value_Footnote           0\n",
              "Confidence_limit_Low          0\n",
              "Confidence_limit_High         0\n",
              "CategoryId                    0\n",
              "TopicId                       0\n",
              "IndicatorID                   0\n",
              "BreakOutCategoryId            0\n",
              "BreakOutId                    0\n",
              "LocationID                    0\n",
              "GeoLocation                   0\n",
              "dtype: int64"
            ]
          },
          "metadata": {
            "tags": []
          },
          "execution_count": 116
        }
      ]
    },
    {
      "cell_type": "code",
      "metadata": {
        "id": "0gT4_na8xpR3",
        "colab_type": "code",
        "colab": {}
      },
      "source": [
        ""
      ],
      "execution_count": 0,
      "outputs": []
    },
    {
      "cell_type": "markdown",
      "metadata": {
        "id": "64UIIanpUksd",
        "colab_type": "text"
      },
      "source": [
        "**A corrolation matrix indicates there are static columns in the dataframe. Here I drop them.**\n",
        "\n",
        "These columns are catigorical because there is only one value all the way down the column. Geolocation is America, the only country this study was conducted in."
      ]
    },
    {
      "cell_type": "code",
      "metadata": {
        "id": "7_0C2UDOobfq",
        "colab_type": "code",
        "outputId": "fe4b63d6-37f4-4e9e-abe4-3a170751831d",
        "colab": {
          "base_uri": "https://localhost:8080/",
          "height": 204
        }
      },
      "source": [
        "survey.corr()"
      ],
      "execution_count": 117,
      "outputs": [
        {
          "output_type": "execute_result",
          "data": {
            "text/html": [
              "<div>\n",
              "<style scoped>\n",
              "    .dataframe tbody tr th:only-of-type {\n",
              "        vertical-align: middle;\n",
              "    }\n",
              "\n",
              "    .dataframe tbody tr th {\n",
              "        vertical-align: top;\n",
              "    }\n",
              "\n",
              "    .dataframe thead th {\n",
              "        text-align: right;\n",
              "    }\n",
              "</style>\n",
              "<table border=\"1\" class=\"dataframe\">\n",
              "  <thead>\n",
              "    <tr style=\"text-align: right;\">\n",
              "      <th></th>\n",
              "      <th>Data_Value</th>\n",
              "      <th>Confidence_limit_Low</th>\n",
              "      <th>Confidence_limit_High</th>\n",
              "      <th>LocationID</th>\n",
              "      <th>GeoLocation</th>\n",
              "    </tr>\n",
              "  </thead>\n",
              "  <tbody>\n",
              "    <tr>\n",
              "      <th>Data_Value</th>\n",
              "      <td>1.000000</td>\n",
              "      <td>0.999866</td>\n",
              "      <td>0.999881</td>\n",
              "      <td>NaN</td>\n",
              "      <td>NaN</td>\n",
              "    </tr>\n",
              "    <tr>\n",
              "      <th>Confidence_limit_Low</th>\n",
              "      <td>0.999866</td>\n",
              "      <td>1.000000</td>\n",
              "      <td>0.999509</td>\n",
              "      <td>NaN</td>\n",
              "      <td>NaN</td>\n",
              "    </tr>\n",
              "    <tr>\n",
              "      <th>Confidence_limit_High</th>\n",
              "      <td>0.999881</td>\n",
              "      <td>0.999509</td>\n",
              "      <td>1.000000</td>\n",
              "      <td>NaN</td>\n",
              "      <td>NaN</td>\n",
              "    </tr>\n",
              "    <tr>\n",
              "      <th>LocationID</th>\n",
              "      <td>NaN</td>\n",
              "      <td>NaN</td>\n",
              "      <td>NaN</td>\n",
              "      <td>NaN</td>\n",
              "      <td>NaN</td>\n",
              "    </tr>\n",
              "    <tr>\n",
              "      <th>GeoLocation</th>\n",
              "      <td>NaN</td>\n",
              "      <td>NaN</td>\n",
              "      <td>NaN</td>\n",
              "      <td>NaN</td>\n",
              "      <td>NaN</td>\n",
              "    </tr>\n",
              "  </tbody>\n",
              "</table>\n",
              "</div>"
            ],
            "text/plain": [
              "                       Data_Value  ...  GeoLocation\n",
              "Data_Value               1.000000  ...          NaN\n",
              "Confidence_limit_Low     0.999866  ...          NaN\n",
              "Confidence_limit_High    0.999881  ...          NaN\n",
              "LocationID                    NaN  ...          NaN\n",
              "GeoLocation                   NaN  ...          NaN\n",
              "\n",
              "[5 rows x 5 columns]"
            ]
          },
          "metadata": {
            "tags": []
          },
          "execution_count": 117
        }
      ]
    },
    {
      "cell_type": "code",
      "metadata": {
        "id": "QscPRkLkcNZB",
        "colab_type": "code",
        "colab": {}
      },
      "source": [
        "survey = survey.drop('GeoLocation', axis=1)"
      ],
      "execution_count": 0,
      "outputs": []
    },
    {
      "cell_type": "code",
      "metadata": {
        "id": "4yoOOxvEcXOo",
        "colab_type": "code",
        "colab": {}
      },
      "source": [
        "survey = survey.drop('LocationID', axis=1)"
      ],
      "execution_count": 0,
      "outputs": []
    },
    {
      "cell_type": "code",
      "metadata": {
        "id": "kN6ck1G3cchr",
        "colab_type": "code",
        "colab": {}
      },
      "source": [
        "survey = survey.drop('PriorityArea2', axis=1)\n"
      ],
      "execution_count": 0,
      "outputs": []
    },
    {
      "cell_type": "code",
      "metadata": {
        "id": "lZldhq7B2zLd",
        "colab_type": "code",
        "colab": {
          "base_uri": "https://localhost:8080/",
          "height": 142
        },
        "outputId": "5e0b71d0-43dd-4878-d76a-8673e30f652c"
      },
      "source": [
        "survey.corr()"
      ],
      "execution_count": 121,
      "outputs": [
        {
          "output_type": "execute_result",
          "data": {
            "text/html": [
              "<div>\n",
              "<style scoped>\n",
              "    .dataframe tbody tr th:only-of-type {\n",
              "        vertical-align: middle;\n",
              "    }\n",
              "\n",
              "    .dataframe tbody tr th {\n",
              "        vertical-align: top;\n",
              "    }\n",
              "\n",
              "    .dataframe thead th {\n",
              "        text-align: right;\n",
              "    }\n",
              "</style>\n",
              "<table border=\"1\" class=\"dataframe\">\n",
              "  <thead>\n",
              "    <tr style=\"text-align: right;\">\n",
              "      <th></th>\n",
              "      <th>Data_Value</th>\n",
              "      <th>Confidence_limit_Low</th>\n",
              "      <th>Confidence_limit_High</th>\n",
              "    </tr>\n",
              "  </thead>\n",
              "  <tbody>\n",
              "    <tr>\n",
              "      <th>Data_Value</th>\n",
              "      <td>1.000000</td>\n",
              "      <td>0.999866</td>\n",
              "      <td>0.999881</td>\n",
              "    </tr>\n",
              "    <tr>\n",
              "      <th>Confidence_limit_Low</th>\n",
              "      <td>0.999866</td>\n",
              "      <td>1.000000</td>\n",
              "      <td>0.999509</td>\n",
              "    </tr>\n",
              "    <tr>\n",
              "      <th>Confidence_limit_High</th>\n",
              "      <td>0.999881</td>\n",
              "      <td>0.999509</td>\n",
              "      <td>1.000000</td>\n",
              "    </tr>\n",
              "  </tbody>\n",
              "</table>\n",
              "</div>"
            ],
            "text/plain": [
              "                       Data_Value  Confidence_limit_Low  Confidence_limit_High\n",
              "Data_Value               1.000000              0.999866               0.999881\n",
              "Confidence_limit_Low     0.999866              1.000000               0.999509\n",
              "Confidence_limit_High    0.999881              0.999509               1.000000"
            ]
          },
          "metadata": {
            "tags": []
          },
          "execution_count": 121
        }
      ]
    },
    {
      "cell_type": "code",
      "metadata": {
        "id": "IjL-B8-5dAab",
        "colab_type": "code",
        "outputId": "a747d52b-f089-4911-8bd1-3fa71f07ec91",
        "colab": {
          "base_uri": "https://localhost:8080/",
          "height": 564
        }
      },
      "source": [
        "survey.head()"
      ],
      "execution_count": 122,
      "outputs": [
        {
          "output_type": "execute_result",
          "data": {
            "text/html": [
              "<div>\n",
              "<style scoped>\n",
              "    .dataframe tbody tr th:only-of-type {\n",
              "        vertical-align: middle;\n",
              "    }\n",
              "\n",
              "    .dataframe tbody tr th {\n",
              "        vertical-align: top;\n",
              "    }\n",
              "\n",
              "    .dataframe thead th {\n",
              "        text-align: right;\n",
              "    }\n",
              "</style>\n",
              "<table border=\"1\" class=\"dataframe\">\n",
              "  <thead>\n",
              "    <tr style=\"text-align: right;\">\n",
              "      <th></th>\n",
              "      <th>Year</th>\n",
              "      <th>LocationAbbr</th>\n",
              "      <th>LocationDesc</th>\n",
              "      <th>DataSource</th>\n",
              "      <th>PriorityArea1</th>\n",
              "      <th>PriorityArea3</th>\n",
              "      <th>PriorityArea4</th>\n",
              "      <th>Category</th>\n",
              "      <th>Topic</th>\n",
              "      <th>Indicator</th>\n",
              "      <th>Break_Out_Category</th>\n",
              "      <th>Break_Out</th>\n",
              "      <th>Data_Value_Type</th>\n",
              "      <th>Data_Value_Unit</th>\n",
              "      <th>Data_Value</th>\n",
              "      <th>Data_Value_Footnote_Symbol</th>\n",
              "      <th>Data_Value_Footnote</th>\n",
              "      <th>Confidence_limit_Low</th>\n",
              "      <th>Confidence_limit_High</th>\n",
              "      <th>CategoryId</th>\n",
              "      <th>TopicId</th>\n",
              "      <th>IndicatorID</th>\n",
              "      <th>BreakOutCategoryId</th>\n",
              "      <th>BreakOutId</th>\n",
              "    </tr>\n",
              "  </thead>\n",
              "  <tbody>\n",
              "    <tr>\n",
              "      <th>0</th>\n",
              "      <td>2011-2012</td>\n",
              "      <td>US</td>\n",
              "      <td>United States</td>\n",
              "      <td>NHANES</td>\n",
              "      <td>Million Hearts®</td>\n",
              "      <td>Healthy People 2020</td>\n",
              "      <td>1</td>\n",
              "      <td>Risk Factors</td>\n",
              "      <td>Aspirin use</td>\n",
              "      <td>Prevalence of aspirin use for secondary preven...</td>\n",
              "      <td>Race</td>\n",
              "      <td>Non-Hispanic Black</td>\n",
              "      <td>Percentage</td>\n",
              "      <td>%</td>\n",
              "      <td>67.9</td>\n",
              "      <td>14</td>\n",
              "      <td>22</td>\n",
              "      <td>56.1</td>\n",
              "      <td>77.8</td>\n",
              "      <td>C2</td>\n",
              "      <td>T8</td>\n",
              "      <td>NH010</td>\n",
              "      <td>BOC04</td>\n",
              "      <td>RAC02</td>\n",
              "    </tr>\n",
              "    <tr>\n",
              "      <th>1</th>\n",
              "      <td>2011-2012</td>\n",
              "      <td>US</td>\n",
              "      <td>United States</td>\n",
              "      <td>NHANES</td>\n",
              "      <td>Million Hearts®</td>\n",
              "      <td>Healthy People 2020</td>\n",
              "      <td>1</td>\n",
              "      <td>Risk Factors</td>\n",
              "      <td>Aspirin use</td>\n",
              "      <td>Prevalence of aspirin use for secondary preven...</td>\n",
              "      <td>Overall</td>\n",
              "      <td>Overall</td>\n",
              "      <td>Percentage</td>\n",
              "      <td>%</td>\n",
              "      <td>75.7</td>\n",
              "      <td>14</td>\n",
              "      <td>22</td>\n",
              "      <td>62.5</td>\n",
              "      <td>85.3</td>\n",
              "      <td>C2</td>\n",
              "      <td>T8</td>\n",
              "      <td>NH010</td>\n",
              "      <td>BOC01</td>\n",
              "      <td>OVR01</td>\n",
              "    </tr>\n",
              "    <tr>\n",
              "      <th>2</th>\n",
              "      <td>2011-2012</td>\n",
              "      <td>US</td>\n",
              "      <td>United States</td>\n",
              "      <td>NHANES</td>\n",
              "      <td>Million Hearts®</td>\n",
              "      <td>Healthy People 2020</td>\n",
              "      <td>1</td>\n",
              "      <td>Risk Factors</td>\n",
              "      <td>Aspirin use</td>\n",
              "      <td>Prevalence of aspirin use for secondary preven...</td>\n",
              "      <td>Race</td>\n",
              "      <td>Non-Hispanic White</td>\n",
              "      <td>Percentage</td>\n",
              "      <td>%</td>\n",
              "      <td>78.3</td>\n",
              "      <td>14</td>\n",
              "      <td>22</td>\n",
              "      <td>56.9</td>\n",
              "      <td>90.8</td>\n",
              "      <td>C2</td>\n",
              "      <td>T8</td>\n",
              "      <td>NH010</td>\n",
              "      <td>BOC04</td>\n",
              "      <td>RAC01</td>\n",
              "    </tr>\n",
              "    <tr>\n",
              "      <th>3</th>\n",
              "      <td>2011-2012</td>\n",
              "      <td>US</td>\n",
              "      <td>United States</td>\n",
              "      <td>NHANES</td>\n",
              "      <td>Million Hearts®</td>\n",
              "      <td>Healthy People 2020</td>\n",
              "      <td>1</td>\n",
              "      <td>Risk Factors</td>\n",
              "      <td>Aspirin use</td>\n",
              "      <td>Prevalence of aspirin use for secondary preven...</td>\n",
              "      <td>Race</td>\n",
              "      <td>Hispanic</td>\n",
              "      <td>Percentage</td>\n",
              "      <td>%</td>\n",
              "      <td>54.8</td>\n",
              "      <td>14</td>\n",
              "      <td>22</td>\n",
              "      <td>38.6</td>\n",
              "      <td>70.1</td>\n",
              "      <td>C2</td>\n",
              "      <td>T8</td>\n",
              "      <td>NH010</td>\n",
              "      <td>BOC04</td>\n",
              "      <td>RAC04</td>\n",
              "    </tr>\n",
              "    <tr>\n",
              "      <th>4</th>\n",
              "      <td>2011-2012</td>\n",
              "      <td>US</td>\n",
              "      <td>United States</td>\n",
              "      <td>NHANES</td>\n",
              "      <td>Million Hearts®</td>\n",
              "      <td>Healthy People 2020</td>\n",
              "      <td>1</td>\n",
              "      <td>Risk Factors</td>\n",
              "      <td>Aspirin use</td>\n",
              "      <td>Prevalence of aspirin use for secondary preven...</td>\n",
              "      <td>Gender</td>\n",
              "      <td>Female</td>\n",
              "      <td>Percentage</td>\n",
              "      <td>%</td>\n",
              "      <td>73.8</td>\n",
              "      <td>14</td>\n",
              "      <td>22</td>\n",
              "      <td>61.2</td>\n",
              "      <td>83.4</td>\n",
              "      <td>C2</td>\n",
              "      <td>T8</td>\n",
              "      <td>NH010</td>\n",
              "      <td>BOC02</td>\n",
              "      <td>GEN02</td>\n",
              "    </tr>\n",
              "  </tbody>\n",
              "</table>\n",
              "</div>"
            ],
            "text/plain": [
              "        Year LocationAbbr  ... BreakOutCategoryId BreakOutId\n",
              "0  2011-2012           US  ...              BOC04      RAC02\n",
              "1  2011-2012           US  ...              BOC01      OVR01\n",
              "2  2011-2012           US  ...              BOC04      RAC01\n",
              "3  2011-2012           US  ...              BOC04      RAC04\n",
              "4  2011-2012           US  ...              BOC02      GEN02\n",
              "\n",
              "[5 rows x 24 columns]"
            ]
          },
          "metadata": {
            "tags": []
          },
          "execution_count": 122
        }
      ]
    },
    {
      "cell_type": "markdown",
      "metadata": {
        "id": "IxpfKpRudErr",
        "colab_type": "text"
      },
      "source": [
        "**Datatype analysis and conversion**\n"
      ]
    },
    {
      "cell_type": "code",
      "metadata": {
        "id": "3T3P7gdU7noa",
        "colab_type": "code",
        "colab": {}
      },
      "source": [
        "survey['Data_Value']=survey.Data_Value.astype(int)"
      ],
      "execution_count": 0,
      "outputs": []
    },
    {
      "cell_type": "code",
      "metadata": {
        "id": "HxTjMExnED_h",
        "colab_type": "code",
        "colab": {}
      },
      "source": [
        "survey['Confidence_limit_Low']=survey.Confidence_limit_Low.astype(int)"
      ],
      "execution_count": 0,
      "outputs": []
    },
    {
      "cell_type": "code",
      "metadata": {
        "id": "Tv1t2QWnEMjO",
        "colab_type": "code",
        "colab": {}
      },
      "source": [
        "survey['Confidence_limit_High']=survey.Confidence_limit_High.astype(int)"
      ],
      "execution_count": 0,
      "outputs": []
    },
    {
      "cell_type": "code",
      "metadata": {
        "id": "xq9l0MiPuEs3",
        "colab_type": "code",
        "colab": {}
      },
      "source": [
        "'''survey['Category'] = pd.to_numeric(survey['Category'],errors='coerce')'''\n",
        "'''survey['PriorityArea4'] = pd.to_numeric(survey['PriorityArea4'],errors='coerce')'''\n",
        "these lines convert object to float "
      ],
      "execution_count": 0,
      "outputs": []
    },
    {
      "cell_type": "code",
      "metadata": {
        "id": "OUpwlhGKC1C3",
        "colab_type": "code",
        "colab": {
          "base_uri": "https://localhost:8080/",
          "height": 442
        },
        "outputId": "0401f2b0-9fa7-4445-8119-7fe0681dcde3"
      },
      "source": [
        "survey.dtypes"
      ],
      "execution_count": 128,
      "outputs": [
        {
          "output_type": "execute_result",
          "data": {
            "text/plain": [
              "Year                          object\n",
              "LocationAbbr                  object\n",
              "LocationDesc                  object\n",
              "DataSource                    object\n",
              "PriorityArea1                 object\n",
              "PriorityArea3                 object\n",
              "PriorityArea4                 object\n",
              "Category                      object\n",
              "Topic                         object\n",
              "Indicator                     object\n",
              "Break_Out_Category            object\n",
              "Break_Out                     object\n",
              "Data_Value_Type               object\n",
              "Data_Value_Unit               object\n",
              "Data_Value                     int64\n",
              "Data_Value_Footnote_Symbol    object\n",
              "Data_Value_Footnote           object\n",
              "Confidence_limit_Low           int64\n",
              "Confidence_limit_High          int64\n",
              "CategoryId                    object\n",
              "TopicId                       object\n",
              "IndicatorID                   object\n",
              "BreakOutCategoryId            object\n",
              "BreakOutId                    object\n",
              "dtype: object"
            ]
          },
          "metadata": {
            "tags": []
          },
          "execution_count": 128
        }
      ]
    },
    {
      "cell_type": "code",
      "metadata": {
        "id": "qKRb7uORbpsi",
        "colab_type": "code",
        "outputId": "2518bc43-a828-4666-da3d-92e4d96c6179",
        "colab": {
          "base_uri": "https://localhost:8080/",
          "height": 510
        }
      },
      "source": [
        "survey.info()"
      ],
      "execution_count": 129,
      "outputs": [
        {
          "output_type": "stream",
          "text": [
            "<class 'pandas.core.frame.DataFrame'>\n",
            "RangeIndex: 4824 entries, 0 to 4823\n",
            "Data columns (total 24 columns):\n",
            "Year                          4824 non-null object\n",
            "LocationAbbr                  4824 non-null object\n",
            "LocationDesc                  4824 non-null object\n",
            "DataSource                    4824 non-null object\n",
            "PriorityArea1                 4824 non-null object\n",
            "PriorityArea3                 4824 non-null object\n",
            "PriorityArea4                 4824 non-null object\n",
            "Category                      4824 non-null object\n",
            "Topic                         4824 non-null object\n",
            "Indicator                     4824 non-null object\n",
            "Break_Out_Category            4824 non-null object\n",
            "Break_Out                     4824 non-null object\n",
            "Data_Value_Type               4824 non-null object\n",
            "Data_Value_Unit               4824 non-null object\n",
            "Data_Value                    4824 non-null int64\n",
            "Data_Value_Footnote_Symbol    4824 non-null object\n",
            "Data_Value_Footnote           4824 non-null object\n",
            "Confidence_limit_Low          4824 non-null int64\n",
            "Confidence_limit_High         4824 non-null int64\n",
            "CategoryId                    4824 non-null object\n",
            "TopicId                       4824 non-null object\n",
            "IndicatorID                   4824 non-null object\n",
            "BreakOutCategoryId            4824 non-null object\n",
            "BreakOutId                    4824 non-null object\n",
            "dtypes: int64(3), object(21)\n",
            "memory usage: 904.6+ KB\n"
          ],
          "name": "stdout"
        }
      ]
    },
    {
      "cell_type": "markdown",
      "metadata": {
        "id": "vVpoN0iqrSj_",
        "colab_type": "text"
      },
      "source": [
        "**Basic Plotting**\n",
        "\n",
        "These graphs show that the data is consitantly related to itself "
      ]
    },
    {
      "cell_type": "code",
      "metadata": {
        "id": "hgqtccqcbV5P",
        "colab_type": "code",
        "outputId": "f5db06b7-1d15-4cc6-871a-b34bc3a698a3",
        "colab": {
          "base_uri": "https://localhost:8080/",
          "height": 312
        }
      },
      "source": [
        "plt.scatter(survey['Data_Value'], survey['Confidence_limit_High'], color='Green')\n",
        "plt.title('How Health and Nutrician Affect Adults and Children')\n",
        "plt.ylabel('Health')\n",
        "plt.xlabel('Nutrician')"
      ],
      "execution_count": 130,
      "outputs": [
        {
          "output_type": "execute_result",
          "data": {
            "text/plain": [
              "Text(0.5, 0, 'Nutrician')"
            ]
          },
          "metadata": {
            "tags": []
          },
          "execution_count": 130
        },
        {
          "output_type": "display_data",
          "data": {
            "image/png": "[encoded data removed]",
            "text/plain": [
              "<Figure size 432x288 with 1 Axes>"
            ]
          },
          "metadata": {
            "tags": []
          }
        }
      ]
    },
    {
      "cell_type": "code",
      "metadata": {
        "id": "Id70mwLYateO",
        "colab_type": "code",
        "outputId": "7d9518c6-9162-4397-9867-b2f130fe1fc4",
        "colab": {
          "base_uri": "https://localhost:8080/",
          "height": 312
        }
      },
      "source": [
        "survey.plot(x='Confidence_limit_Low', y='Data_Value', color='Purple')\n",
        "plt.title('How Health and Nutrician Affect Adults and Children')\n",
        "plt.ylabel('Health')\n",
        "plt.xlabel('Nutrician')"
      ],
      "execution_count": 131,
      "outputs": [
        {
          "output_type": "execute_result",
          "data": {
            "text/plain": [
              "Text(0.5, 0, 'Nutrician')"
            ]
          },
          "metadata": {
            "tags": []
          },
          "execution_count": 131
        },
        {
          "output_type": "display_data",
          "data": {
            "image/png": "[encoded data removed]",
            "text/plain": [
              "<Figure size 432x288 with 1 Axes>"
            ]
          },
          "metadata": {
            "tags": []
          }
        }
      ]
    },
    {
      "cell_type": "code",
      "metadata": {
        "id": "HUEx2k3Wmc5g",
        "colab_type": "code",
        "outputId": "2e879fc0-3c4a-4520-87df-81bf79cbb600",
        "colab": {
          "base_uri": "https://localhost:8080/",
          "height": 562
        }
      },
      "source": [
        "sns.pairplot(survey)"
      ],
      "execution_count": 132,
      "outputs": [
        {
          "output_type": "execute_result",
          "data": {
            "text/plain": [
              "<seaborn.axisgrid.PairGrid at 0x7f393fbf5be0>"
            ]
          },
          "metadata": {
            "tags": []
          },
          "execution_count": 132
        },
        {
          "output_type": "display_data",
          "data": {
            "image/png": "[encoded data removed]",
            "text/plain": [
              "<Figure size 540x540 with 12 Axes>"
            ]
          },
          "metadata": {
            "tags": []
          }
        }
      ]
    },
    {
      "cell_type": "code",
      "metadata": {
        "id": "tYfUJ713fdm1",
        "colab_type": "code",
        "outputId": "f5f29cf1-b544-477e-8459-e57c59a3b85d",
        "colab": {
          "base_uri": "https://localhost:8080/",
          "height": 367
        }
      },
      "source": [
        "ax = survey.plot(figsize=(10,5))\n",
        "ax.axhline(y=200, color='Red')\n",
        "ax.axhline(y=300)\n",
        "plt.title('How Health and Nutrician Affect Adults and Children')\n",
        "plt.ylabel('Health')\n",
        "plt.xlabel('Nutrician')"
      ],
      "execution_count": 133,
      "outputs": [
        {
          "output_type": "execute_result",
          "data": {
            "text/plain": [
              "Text(0.5, 0, 'Nutrician')"
            ]
          },
          "metadata": {
            "tags": []
          },
          "execution_count": 133
        },
        {
          "output_type": "display_data",
          "data": {
            "image/png": "[encoded data removed]",
            "text/plain": [
              "<Figure size 720x360 with 1 Axes>"
            ]
          },
          "metadata": {
            "tags": []
          }
        }
      ]
    },
    {
      "cell_type": "code",
      "metadata": {
        "id": "DqY65-S67Khz",
        "colab_type": "code",
        "colab": {
          "base_uri": "https://localhost:8080/",
          "height": 437
        },
        "outputId": "5083b1ec-3031-46bd-8b0e-21a66b0ff0bf"
      },
      "source": [
        "sns.set(style=\"white\", color_codes=True)\n",
        "sns.jointplot(x='Data_Value', y='Confidence_limit_High', data=survey, \n",
        "              color='darkorchid')\n",
        "\n",
        "plt.title('How Health and Nutrician Affect Adults and Children',y=30,x=-3, fontsize = 16)\n",
        "'''The plot title couldnt be adjusted above or below where it started evey with y=30'''\n",
        "plt.show()"
      ],
      "execution_count": 137,
      "outputs": [
        {
          "output_type": "display_data",
          "data": {
            "image/png": "[encoded data removed]",
            "text/plain": [
              "<Figure size 432x432 with 3 Axes>"
            ]
          },
          "metadata": {
            "tags": []
          }
        }
      ]
    },
    {
      "cell_type": "markdown",
      "metadata": {
        "id": "lKPyQIpyAs8m",
        "colab_type": "text"
      },
      "source": [
        "This jointplot shows the values corrolate all the way up and also shows the spikes in the data around the edges. "
      ]
    },
    {
      "cell_type": "code",
      "metadata": {
        "id": "UqRXxSb-M5Oc",
        "colab_type": "code",
        "colab": {
          "base_uri": "https://localhost:8080/",
          "height": 454
        },
        "outputId": "135c4c2d-7356-4595-cd5d-4ad04792f80d"
      },
      "source": [
        "sns.jointplot(x=survey[\"Data_Value\"], y=survey[\"Confidence_limit_High\"], kind='reg',space=0, color='purple')\n",
        "# plt.title('How Health and Nutrician Affect Adults and Children',y=10.3, fontsize = 16)"
      ],
      "execution_count": 135,
      "outputs": [
        {
          "output_type": "execute_result",
          "data": {
            "text/plain": [
              "<seaborn.axisgrid.JointGrid at 0x7f393ea0bb70>"
            ]
          },
          "metadata": {
            "tags": []
          },
          "execution_count": 135
        },
        {
          "output_type": "display_data",
          "data": {
            "image/png": "[encoded data removed]",
            "text/plain": [
              "<Figure size 432x432 with 3 Axes>"
            ]
          },
          "metadata": {
            "tags": []
          }
        }
      ]
    },
    {
      "cell_type": "code",
      "metadata": {
        "id": "9Td4mZ5SbjmC",
        "colab_type": "code",
        "colab": {
          "base_uri": "https://localhost:8080/",
          "height": 454
        },
        "outputId": "4351e1f3-4bbb-459e-a0b1-abb077e4ff70"
      },
      "source": [
        "g = (sns.jointplot(\"Data_Value\", \"Confidence_limit_High\",\n",
        "...                    data=survey, color=\"plum\")\n",
        "...         .plot_joint(sns.kdeplot, zorder=0, n_levels=6))\n",
        "plt.title('How Health and Nutrician Affect Adults and Children')"
      ],
      "execution_count": 136,
      "outputs": [
        {
          "output_type": "execute_result",
          "data": {
            "text/plain": [
              "Text(0.5, 1, 'How Health and Nutrician Affect Adults and Children')"
            ]
          },
          "metadata": {
            "tags": []
          },
          "execution_count": 136
        },
        {
          "output_type": "display_data",
          "data": {
            "image/png": "[encoded data removed]",
            "text/plain": [
              "<Figure size 432x432 with 3 Axes>"
            ]
          },
          "metadata": {
            "tags": []
          }
        }
      ]
    }
  ]
}